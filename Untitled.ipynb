{
 "cells": [
  {
   "cell_type": "code",
   "execution_count": null,
   "metadata": {},
   "outputs": [],
   "source": [
    "from sklearn.datasets import load_boston\n",
    "data , target = load_boston(return_X_y=True)\n",
    "print (data.shape)\n",
    "print (target.shape)\n"
   ]
  },
  {
   "cell_type": "code",
   "execution_count": null,
   "metadata": {},
   "outputs": [],
   "source": []
  },
  {
   "cell_type": "code",
   "execution_count": null,
   "metadata": {},
   "outputs": [],
   "source": [
    "from sklearn.datasets import load_iris\n",
    "\n",
    "iris = load_iris()\n",
    "\n",
    "print (iris.data.shape)\n",
    "print (iris.target.shape)\n",
    "list (iris.target_names)"
   ]
  },
  {
   "cell_type": "code",
   "execution_count": null,
   "metadata": {},
   "outputs": [],
   "source": [
    "from sklearn.datasets import load_digits\n",
    "\n",
    "digits = load_digits()\n",
    "\n",
    "print (digits.data.shape)\n",
    "print (digits.target.shape)\n",
    "list (digits.target_names)\n",
    "print (digits.images.shape)\n",
    "\n",
    "import matplotlib.pyplot as plt\n",
    "plt.matshow(digits.images[0])\n",
    "plt.show()"
   ]
  },
  {
   "cell_type": "code",
   "execution_count": null,
   "metadata": {
    "scrolled": true
   },
   "outputs": [],
   "source": [
    "import numpy as np\n",
    "from sklearn.cluster import KMeans\n",
    "\n",
    "def loadData(filepath):\n",
    "    fr = open(filepath,'r+')\n",
    "    lines = fr.readlines()\n",
    "    retData = []\n",
    "    reCityName = []\n",
    "    for line in lines:\n",
    "              items = line.strip().split(',')\n",
    "              reCityName.append(items[0])\n",
    "              retData.append([float(items[i]) for i in range(1,len(items))])\n",
    "    return retData,reCityName    ##output order cannot change\n",
    "   \n",
    "    \n",
    "if __name__=='__main__':\n",
    "    data, cityName = loadData('city.txt')\n",
    "    km = KMeans(n_clusters=4)\n",
    "    #label = km.fit_predict(data)\n",
    "    label = km.fit_predict(data)\n",
    "    print (label)\n",
    "    expenses = np.sum(km.cluster_centers_,axis=1)\n",
    "    print (expenses)\n",
    "    CityCluter = [[],[],[],[]]\n",
    "    for i in range(len(cityName)):\n",
    "        CityCluster[label[i]].append(cityName[i])\n",
    "    for i in range(len(CityCluster)):\n",
    "        print(\"Expenses:%.2f\" % expenses[i])  # 将每个簇的平均花费输出\n",
    "        print(CityCluster[i])  # 将每个簇的城市输出\n",
    "\n",
    "    "
   ]
  },
  {
   "cell_type": "code",
   "execution_count": null,
   "metadata": {},
   "outputs": [],
   "source": [
    "#-*-coding：utf-8 -*-\n",
    "import numpy as np  # 导入numpy包\n",
    "from sklearn.cluster import KMeans  # 导入KMeans包\n",
    "\n",
    "\n",
    "# 定义一个读取数据的方法loadData(filePath),传入参数filePah为数据源文件在计算机中的路径\n",
    "def loadData(filePath,encoding='utf-8'):\n",
    "    fr = open(filePath, 'r+')  # 打开指定文件,获取原始数据\n",
    "\n",
    "    # open()函数打开一个文件\n",
    "    # 第一个参数是文件的路径,格式是字符串\n",
    "    # 路径可以是相对路径,也可以是绝对路径\n",
    "    # 在windows下用\\\\分割路径,在OSX下用/分割\n",
    "    # 第二个参数是打开方式,默认为'r',表示只读\n",
    "    # 此处的'r+'表示可读可写 不会创建不存在的文件 从顶部开始写 会覆盖之前此位置的内容\n",
    "    # open()函数返回一个File对象\n",
    "    # File对象代表计算机中的一个文件,只是Python中另一种类型的值,类似列表和字典\n",
    "    # 此处open()函数返回的File文件保存在变量fr里\n",
    "    # 当需要读写文件时,调用fr变量中File对象的方法\n",
    "\n",
    "    lines = fr.readlines()  # 读取文件,得到文件中的每一行\n",
    "    # readline()方法从当前File文件对象取得一个字符串列表\n",
    "    # 列表中的每个字符串就是文本中的一行\n",
    "\n",
    "    retData = []  # 定义一个空列表,存储城市的房租数据\n",
    "    retCityName = []  # 定义一个空列表,存储城市名称数据\n",
    "    for line in lines:  # 用for循环依次读取数据的每一行,每一行是一个城市\n",
    "        items = line.strip().split(\",\")  # 切片后得到一个新的列表items\n",
    "\n",
    "        # Python strip() 方法用于移除字符串头尾指定的字符（默认为空格）\n",
    "        # Python split() 通过指定分隔符对字符串进行切片\n",
    "        # str.split(str=\"\", num=string.count(str)). 可传入两个参数str和num\n",
    "        # str -- 分隔符，默认为所有的空字符，包括空格、换行(\\n)、制表符(\\t)等。\n",
    "        # num -- 分割次数。如果参数num 有指定值，则仅分隔 num 个子字符串\n",
    "\n",
    "        retCityName.append(items[0])  # items中的第一个元素是城市名称,将其加入城市名称列表\n",
    "        # append() 方法用于在列表末尾添加新的对象。\n",
    "\n",
    "        retData.append([float(items[i]) for i in range(1, len(items))])\n",
    "\n",
    "        # 使用列表解析的方法从items的第二个元素开始读取,边读取边将数据转化为float类型\n",
    "        # range(start, end, scan) 生成一个整数列表\n",
    "        # 第一个参数start表示起始数字,end表示结尾数字,scan表示步长,默认为1\n",
    "\n",
    "    return retData, retCityName  # 返回城市名称和城市房租数据两个列表\n",
    "\n",
    "\n",
    "if __name__ == '__main__':\n",
    "    #  一个python的文件有两种使用的方法\n",
    "    # 第一是直接作为脚本执行\n",
    "    # 第二是import到其他的python脚本中被调用（模块重用）执行\n",
    "    # 因此if __name__ == 'main': 的作用就是控制这两种情况执行代码的过程\n",
    "    # 在if __name__ == 'main': 下的代码只有在第一种情况下（即文件作为脚本直接执行）才会被执行\n",
    "    # 而import到其他脚本中是不会被执行的\n",
    "    data, cityName = loadData('city.txt')  # 调用loadData方法,获取两个列表\n",
    "    # 'city.txt'使用了相对路径\n",
    "    km = KMeans(n_clusters=4)  # n_clusters用于指定聚类中心的个数\n",
    "    # KMeans(n_clusters, init, max_iter) 方法来自sklearn.cluster下的KMeans包\n",
    "    # n_cluster用于指定聚类中心的个数,一般只用这一个参数\n",
    "    # init初始聚类中心的初始化方法.默认是k-means++\n",
    "    # max_iter最大的迭代次数,默认是300\n",
    "    # 本例中变量km是KMeans返回的一个KMeans类对象\n",
    "    label = km.fit_predict(data)  # fit_predict计算簇中心，同时为簇分配序号\n",
    "    # fit_predict 实际上调用了KMeans类中的fit方法，并返回label\n",
    "    # label是聚类后各数据所属标签\n",
    "    # Compute cluster centers and predict cluster index for each sample\n",
    "    expenses = np.sum(km.cluster_centers_, axis=1)\n",
    "    # numpy.sum(a, axis=None)是numpy的函数\n",
    "    # 按照给定的轴(第二个参数axis)计算数组(第一个参数a)的和\n",
    "    # axis默认为None,简单对所有数值相加; axis=0表示按列相加; axis=1表示按行相加\n",
    "    # 最终返回结果的类型是ndarray\n",
    "    CityCluster = [[], [], [], []]  # 定义有4个元素的列表\n",
    "    # 4与之前指定聚类中心的个数相同\n",
    "    # 每个元素本身又是一个空列表,稍后用来存储城市名称\n",
    "    for i in range(len(cityName)):\n",
    "        CityCluster[label[i]].append(cityName[i])  # 将城市按 label 分成设定的簇\n",
    "        # label[i]得到一个整数,作为CityCluster的下标\n",
    "        # CityCluster[label[i]]得到CityCluster中的第label[i]个元素\n",
    "        # 因为CityCluster中的第label[i]个元素也是列表,所以使用append方法添加元素\n",
    "        # CityCluster[label[i]].append(cityName[i])就是向列表CityCluster[label[i]]中添加cityName[i]\n",
    "    for i in range(len(CityCluster)):\n",
    "        print(\"Expenses:%.2f\" % expenses[i])  # 将每个簇的平均花费输出\n",
    "        # python对字符串操作时定义了%二进制操作符\n",
    "        # %左侧是一个字符串，这个字符串里也有1个或多个百分号%,相当于占位符，是要嵌入的转换目标\n",
    "        # %右侧是用来插入到左侧转换目标位置上去的对象，如果是多个对象，把多个对象嵌入到元组中\n",
    "        # 嵌入一个对象的例子：\n",
    "        # 'The sum of 1 + 2 is %d ' % 3  # %d 表示十进制整数\n",
    "        # 打印结果是 The sum of 1 + 2 is 3\n",
    "        # 嵌入多个对象的例子：\n",
    "        # 'The %s of 1 + is %d ' % ('sum', 3)  # %s表示字符串(或任何对象)，%d 表示十进制整数\n",
    "        # 打印结果是 The sum of 1 + 2 is 3\n",
    "        # 这里因为要分别嵌入'sum'和3两个对象,所以将这两个对象嵌入到元组中('sum', 3)\n",
    "        # python字符串格式化有非常多的用法，细节可参照《Python学习手册》第七章192页到207页\n",
    "        # 接下来只针对本段代码中的使用进行解释\n",
    "        # \"Expenses:%.2f\" % expenses[i]\n",
    "        # 中间的百分号%将表达式分为左右两部分\n",
    "        # 百分号%左侧是字符串 \"Expenses:%.2f\"\n",
    "        # %.f表示浮点十进制,\"Expenses:%.2f\"中的%.2f表示浮点十进制保留2位小数\n",
    "        # 百分号%右侧是对象expenses[i]\n",
    "        # \"Expenses:%.2f\" % expenses[i]完整含义:\n",
    "        # 将expenses[i]嵌入到%.2f的位置,转换为浮点十进制并保留2位小数\n",
    "        print(CityCluster[i])  # 将每个簇的城市输出\n",
    "\n",
    "# 参考书目：\n",
    "# • 《Python学习手册》，作者Mark Lutz，译者李军，刘红伟等\n",
    "# • 《Python编程快速上手——让繁琐工作自动化》,作者Al Sweigart, 译者王海鹏\n",
    "# • 《利用Python进行数据分析》,作者Wes McKinney,译者唐学韬\n",
    "# • 注释中的一些描述，直接从书中摘取了原句\n"
   ]
  },
  {
   "cell_type": "code",
   "execution_count": null,
   "metadata": {},
   "outputs": [],
   "source": [
    "import numpy as np\n",
    "from sklearn.cluster import DBSCAN\n",
    "import sklearn.cluster as skc\n",
    "from sklearn import metrics\n",
    "import matplotlib.pyplot as plt\n",
    "mac2id = dict()\n",
    "onlinetimes=[]\n",
    "f = open('.\\\\biteduML-master\\\\studynotes\\\\dbscan-onlinetime\\\\TestData.txt', encoding='utf-8')  # 使用读取数据\n",
    "for line in f:\n",
    "    mac = line.split(',')[2]\n",
    "    onlinetime = int(line.split(',')[6])  # 上网时长onlinetime是该列表的第5个元素,用下标6获取,加int()转换为整数\n",
    "    starttime = int(line.split(',')[4].split(' ')[1].split(':')[0])  # 开始上网时间的整点数\n",
    "if mac not in mac2id:\n",
    "    mac2id[mac] = len(onlinetimes)\n",
    "    onlinetimes.append((starttime, onlinetime))\n",
    "else:\n",
    "    onlinetimes[mac2id[mac]] = (starttime, onlinetime)\n",
    "\n",
    "real_X = np.array(onlinetimes).reshape((-1, 2))\n",
    "X = real_X[:, 0:1]\n",
    "db = skc.DBSCAN(eps=0.01, min_samples=20).fit(X)\n",
    "labels = db.labels_\n",
    "print('Labels:')\n",
    "print(labels)  # 将labels这个ndarray打印出来\n",
    "raito = len(labels[labels[:] == -1]) / len(labels)  # 获取噪声数据占所有数据的比例\n",
    "print('Noise raito:', format(raito, '.2%'))\n",
    "\n",
    "n_clusters_ = len(set(labels)) - (1 if -1 in labels else 0)\n",
    "\n",
    "print('Estimated number of clusters: %d' % n_clusters_)\n"
   ]
  },
  {
   "cell_type": "code",
   "execution_count": null,
   "metadata": {},
   "outputs": [],
   "source": [
    "# 本文件对应原始课件\\biteduML\\raw_materials\\06.py\n",
    "\n",
    "import numpy as np\n",
    "import sklearn.cluster as skc\n",
    "from sklearn import metrics\n",
    "import matplotlib.pyplot as plt\n",
    "\n",
    "mac2id = dict()  # 创建一个字典变量\n",
    "onlinetimes = []  # 创建一个列表\n",
    "f = open('.\\\\biteduML-master\\\\studynotes\\\\dbscan-onlinetime\\\\TestData.txt', encoding='utf-8')  # 使用读取数据\n",
    "# open()函数打开一个文件\n",
    "# • 第一个参数是文件的路径,格式是字符串\n",
    "# • 路径可以是相对路径,也可以是绝对路径\n",
    "# • 在windows下用\\\\分割路径,在OSX下用/分割\n",
    "# • encoding在原函数的参数列表中不是第二个参数，所以传入参数时注明了参数名称encoding=\n",
    "# • encoding='utf-8'表示以utf-8字符集读取文件\n",
    "# open()函数返回的结果的类型是_io.TextIOWrapper\n",
    "\n",
    "for line in f:  # 解析返回结果f,读取每行数据line,line的类型是str字符串\n",
    "    mac = line.split(',')[2]  # 获取mac地址\n",
    "    # 使用split方法,按指定的字符对字符串line进行切片,返回一个字符串列表\n",
    "    # 将该列表按下标排列,举例如下\n",
    "    # [0]2c929293466b97a6014754607e457d68,\n",
    "    # [1]U201215025,\n",
    "    # [2]A417314EEA7B,\n",
    "    # [3]10.12.49.26,\n",
    "    # [4]2014-07-20 22:44:18.540000000,\n",
    "    # [5]2014-07-20 23:10:16.540000000,\n",
    "    # [6]1558,\n",
    "    # [7]15,\n",
    "    # [8]本科生动态IP模版,\n",
    "    # [9]100元每半年,\n",
    "    # [10]internet\n",
    "    # 其中mac地址为该字符串列表的第3个元素,用下标2获取,举例如A417314EEA7B\n",
    "\n",
    "    onlinetime = int(line.split(',')[6])  # 上网时长onlinetime是该列表的第5个元素,用下标6获取,加int()转换为整数\n",
    "\n",
    "    starttime = int(line.split(',')[4].split(' ')[1].split(':')[0])  # 开始上网时间的整点数\n",
    "    # starttime的获取经过了3次切片\n",
    "    # • 第一次切片：line.split(',')[4]\n",
    "    # 对整行按逗号切片后,得到第一个列表,上网时间是该列表的第5个元素,用下标[4]获取\n",
    "    # 获取到的上网时间是一个字符串,格式如 2014-07-20 22:44:18.540000000\n",
    "    # • 第二次切片：line.split(',')[4].split(' ')[1]\n",
    "    # 用' '空格对上网时间字符串进行切片，再次得到一个字符串列表\n",
    "    # 这个新列表的第一个元素是开始上网时间的年月日(例如2014-07-20)\n",
    "    # 新列表的第二个元素是开始上网时间的时分秒(例如22:44:18.540000000)\n",
    "    # 用下标[1]获取第二个元素\n",
    "    # • 第三次切片：line.split(',')[4].split(' ')[1].split(':')[0]\n",
    "    # 对上网时间的时分秒按冒号切片,获得一个包含时、分、秒三个字符串元素的列表\n",
    "    # 用下标[0]获取小时的字符串\n",
    "    # 最终结果用int()转换为整数\n",
    "\n",
    "    if mac not in mac2id:\n",
    "        mac2id[mac] = len(onlinetimes)\n",
    "        # 字典变量mac2id的key为mac地址,value为列表onlinetimes的长度\n",
    "        # 相当于用mac2id[mac]记录onlinetimes的最大索引\n",
    "        onlinetimes.append((starttime, onlinetime))\n",
    "        # (starttime, onlinetime)是一个元组类型的对象，存储最新获取的starttime和onlinetime两个元素\n",
    "        # 向列表onlinetimes添加当前元组对象\n",
    "    else:\n",
    "        # onlinetimes[mac2id[mac]] = [(starttime, onlinetime)] # 课件中的原始代码\n",
    "        onlinetimes[mac2id[mac]] = (starttime, onlinetime)  # 修正后的代码\n",
    "        # (starttime, onlinetime)同上,仍然生成一个元组，存储最新获取的starttime和onlinetime两个元素\n",
    "        # 上面讲到,mac2id[mac]实际是列表onlinetimes的一个索引值\n",
    "        # onlinetimes[mac2id[mac]]获取onlinetimes中索引值为[mac2id[mac]]的一个元素\n",
    "        # 用最新的元组(starttime, onlinetime)替换原有元素\n",
    "        # 原始代码勘误:\n",
    "        # if中用append添加了一个元组,else中用等号赋值,等号右边应该也是同样格式的元组\n",
    "        # 所以去除原始代码中的中括号才是正确代码\n",
    "    # 这组if else语句的作用是:\n",
    "    # 通过mac2id[mac]中mac地址的唯一性，将onlinetimes索引赋值给mac2id[mac]\n",
    "\n",
    "real_X = np.array(onlinetimes).reshape((-1, 2))\n",
    "# numpy.array() 是numpy的一个函数\n",
    "# numpy.array() 接受一切序列型的对象: 列表,元组,数组等\n",
    "# numpy.array() 最终生成一个numpy数组(类型是ndarray)\n",
    "# np.array(onlinetimes)通过传入列表onlinetimes, 生成一个ndarray多维数组\n",
    "# reshape((-1, 2)) 又对np.array(onlinetimes)生成的这个多维数组进行了reshape操作\n",
    "# reshape() 函数不改变原数组的元素，只返回一个shape形状的数组\n",
    "# reshape() 传入的shape参数类型是元组，元组中的每个数字代表一个维度的大小\n",
    "# 其中的任一维度都可以是数字-1，表示该维度的大小由数据本身推断而来\n",
    "# np.array(onlinetimes).reshape((-1, 2)),传入的参数是元组(-1, 2)\n",
    "# 表示将np.array(onlinetimes)获取的数组重塑为n行2列的多维数组\n",
    "\n",
    "X = real_X[:, 0:1]\n",
    "# 对多维数组real_X切片,返回一个切片后的多维数组X\n",
    "# 下标从列表中获得1个值, 切片从列表中取得多个值\n",
    "# 切片有两个用冒号:分隔的整数,例如sample_list=[1,2,3,4,5], sample_list[1:4]\n",
    "# 在切片中,第一个整数是切片开始处的下标\n",
    "# 第二个整数是切片结束处的下标,但是不包括这个下标获取的值\n",
    "# 例如sample_list=[1,2,3,4,5]中, sample_list[1:4]获取了列表中下标为[1],[2],[3]的值\n",
    "# 下标包括了冒号左边的整数1,但是不包括冒号右边的整数4\n",
    "# sample_list[1:4]= [2, 3, 4]\n",
    "# 切片还可以省略冒号左右两个数字中的任一个,或者两个数字都省略\n",
    "# 省略冒号左边的数字表示下标取[0],即分片始于列表的开始位置\n",
    "# 省略冒号右边的数字表示下标取列表的长度,即分片直至列表结尾\n",
    "# 例如sample_list=[1,2,3,4,5]中, sample_list[:] = [1,2,3,4,5]\n",
    "# sample_list[:]相当于sample_list[0:5]\n",
    "# 为什么省略右边的数字可以取到最后一个元素？\n",
    "# 上面说过，省略右边数字相当于下标取列表的长度,sample_list=[1,2,3,4,5]中列表长度为5，所以取到下标[5]\n",
    "# 而下标是从[0]开始的，所以下标[4]已经取到了最后一个元素\n",
    "# 切片的规则是不包括以冒号右边整数为下标获取的值\n",
    "# 所以sample_list[:]和sample_list[0:5]都能获取整个sample_list列表\n",
    "\n",
    "# 本段代码中，real_X[:, 0:1]实际上对real_X进行了两次切片操作\n",
    "# [:, 0:1]中逗号前的切片:表示对real_X列表按照[:]截取\n",
    "# real_X中的每个元素本身又是一个列表\n",
    "# [:, 0:1]中逗号后的切片0:1表示对real_X中的每个元素按照[0:1]截取\n",
    "# X = real_X[:, 0:1] 获取的X是n行1列的多维数组,X中的每个元素都是数组\n",
    "\n",
    "db = skc.DBSCAN(eps=0.01, min_samples=20).fit(X)\n",
    "\n",
    "# skc.DBSCAN(eps=0.01, min_samples=20) 本行代码经过了如下计算流程：\n",
    "# • 以每个点为中心，计算在这个中心的半径eps=0.01范围内，共有多少个点(包括中心点自己),即邻域内总共有多少个点\n",
    "# • 如果邻域内点的个数超过min_samples=20，这个点是核心点\n",
    "# • 查看剩余点是否在核心点的邻域内，若在则为边界点，否则为噪声点\n",
    "# skc.DBSCAN(eps=0.01, min_samples=20)返回的对象类型是 sklearn.cluster.dbscan_.DBSCAN\n",
    "# fix()方法:\n",
    "# skc.DBSCAN(eps=0.01, min_samples=20)定义了DBSCAN的基本参数后，使用fix()方法,传入数据集,得到最终结果\n",
    "# db = skc.DBSCAN(eps=0.01, min_samples=20).fix(X) 返回的对象类型也是 sklearn.cluster.dbscan_.DBSCAN\n",
    "\n",
    "# DBSCAN(Density-Based Spatial Clustering of Application with Noise)\n",
    "# DBSCAN算法是一种基于密度的聚类：\n",
    "# • 聚类的时候不需要预先指定簇个数\n",
    "# • 最终的簇个数不定\n",
    "\n",
    "# DBSCAN算法将数据点分为三类：\n",
    "# • 核心点：在半径eps内含有超过min_samples数目的点\n",
    "# • 边界点：在半径eps内点的数量小于min_samples，但是落在核心点的邻域内\n",
    "# • 噪音点：既不是核心也不是边界点\n",
    "\n",
    "# sklearn.cluster.DBSCAN函数的完整参数如下\n",
    "# class sklearn.cluster.DBSCAN (eps=0.5, min_samples=5, metric='euclidean',\n",
    "# metric_params=None, algorithm='auto', leaf_size=30, p=None, n_jobs=1)\n",
    "# 这里只介绍前3个常用参数,其他参数可以查看sklearn.cluster.DBSCAN的官方文档\n",
    "# • eps：两个样本被看作近邻的最大距离，超出这个距离不算近邻\n",
    "# • min_samples：近邻的最少样本数，达到这个数量某个点才能被认为是核心点(包括这个点自身)\n",
    "# • metric='euclidean': 距离计算方式，DBSCAN使用默认的欧式距离可以满足大部分需求\n",
    "\n",
    "# eps\n",
    "# • eps默认值是0.5\n",
    "# • eps过大，则更多的点会落在核心点的邻域内, 此时类别数可能会减少，本来不应该是一类的样本也会被划为一类\n",
    "# • 反之eps过小则类别数可能会增大，本来是一类的样本却被划分开\n",
    "\n",
    "# min_samples\n",
    "# • min_samples默认值是5\n",
    "# • 在eps一定的情况下\n",
    "# • min_samples过大，则核心点会过少, 此时簇内部分本来是一类的样本可能会被标为噪音点，类别数也会变多\n",
    "# • 反之min_samples过小，则会产生大量的核心点，可能会导致类别数过少\n",
    "\n",
    "# eps和min_samples常在一起调参，两个值的组合最终影响了聚类效果\n",
    "\n",
    "# metric常用的度量参数有:\n",
    "# a) 欧式距离 'euclidean'\n",
    "# b) 曼哈顿距离 'manhattan'\n",
    "# c) 切比雪夫距离'chebyshev'\n",
    "# d) 闵可夫斯基距离'minkowski', 欧氏距离和曼哈顿距离都源自闵可夫斯基距离\n",
    "# e) 带权重闵可夫斯基距离'wminkowski'\n",
    "# f) 标准化欧式距离'seuclidean', 即对于各特征维度做了归一化以后的欧式距离, 此时各样本特征维度的均值为0，方差为1.\n",
    "# g) 马氏距离'mahalanobis'\n",
    "\n",
    "labels = db.labels_\n",
    "# labels_是sklearn.cluster.dbscan_.DBSCAN的属性\n",
    "# 通过sklearn.cluster.dbscan_.DBSCAN的对象db获取.labels_\n",
    "# labels = db.labels_就是skc.DBSCAN(eps=0.01, min_samples=20).fit(X)计算生成的簇的标签,噪声点的标签是-1\n",
    "# labels的类型是numpy.ndarray\n",
    "\n",
    "print('Labels:')\n",
    "print(labels)  # 将labels这个ndarray打印出来\n",
    "\n",
    "raito = len(labels[labels[:] == -1]) / len(labels)  # 获取噪声数据占所有数据的比例\n",
    "# labels[:]用切片方式返回一个包含labels所有元素的新ndarray\n",
    "# labels[:] == -1 对labels[:]这个ndarray中的所有元素逐个判断是否等于-1, 每次判断都返回一个bool类型的值\n",
    "# labels[:] == -1 返回一个由bool值组成的ndarray, 这个ndarray的结构和labels[:]原数组完全一致\n",
    "# labels[labels[:] == -1] 从labels中获取所有bool值为True对应的数值(就是-1), 最终结果是一个ndarray\n",
    "# 所以labels[labels[:] == -1] 最终返回了一个由数值-1组成的ndarray\n",
    "# len(labels[labels[:] == -1]) 获得这个-1组成的ndarray的长度,也就是噪声数据的数目\n",
    "# len(labels)是labels总长度,即labels总数\n",
    "# raito = len(labels[labels[:] == -1]) / len(labels) 得到噪声点与总数之比\n",
    "\n",
    "print('Noise raito:', format(raito, '.2%'))\n",
    "\n",
    "n_clusters_ = len(set(labels)) - (1 if -1 in labels else 0)\n",
    "# 通过set(labels)对簇标签labels去重\n",
    "# len(set(labels))得到去重后簇标签的总数,即簇的总数(包括噪声点在内)\n",
    "# 1 if -1 in labels else 0 遍历labels，判断labels中是否有-1标签，即噪声点\n",
    "# 如果labels存在噪声点,经过set(labels)去重后,在len(set(labels))就只包含了1个-1\n",
    "# 用len(set(labels))减1,排除噪声点,得到没有噪声点的簇总数\n",
    "# 如果不存在噪声点,(1 if -1 in labels else 0得到数值0)\n",
    "# len(set(labels)) - 0 保持不变\n",
    "\n",
    "print('Estimated number of clusters: %d' % n_clusters_)\n",
    "# 打印簇总数n_clusters_\n",
    "\n",
    "print(\"Silhouette Coefficient: %0.3f\" % metrics.silhouette_score(X, labels))\n",
    "# sklearn.metrics.silhouette_score 用于计算所有样本轮廓系数的均值\n",
    "# metrics.silhouette_score(X, labels)\n",
    "# 参数X是数据集\n",
    "# 参数labels是数据集的所有簇标签\n",
    "# metrics.silhouette_score的返回结果是轮廓系数的均值,数据类型是float\n",
    "# 这个轮廓系数均值用来评价聚类效果\n",
    "\n",
    "for i in range(n_clusters_):\n",
    "    print('Cluster ', i, ':')\n",
    "    print(list(X[labels == i].flatten()))\n",
    "\n",
    "# python3中的rang()是一个迭代器\n",
    "# rang()的参数必须是整数类型\n",
    "# rang()传入一个整数参数时,用来产生从零算起的一系列整数,但不包括这个整数\n",
    "# rang()传入两个整数参数时,第一个参数视为下边界,即不再从零开始,从第一个参数开始,到第二个参数截止\n",
    "# rang()传入三个整数参数时,第三个整数作为步进值,函数默认的步进值是1\n",
    "# range()常用在for循环中产生索引\n",
    "# range()也常和list()组合产生整数列表\n",
    "# range(n_clusters_)使用簇的总数为for循环生成了默认步长为1的一系列整数索引\n",
    "# for i in range(n_clusters_):\n",
    "#     print('Cluster ', i, ':')\n",
    "# for循环在python中是一个通用的序列迭代器,可以遍历任何有序的序列对象内的元素\n",
    "# for循环可拥有字符串、列表、元组、其他内置可迭代对象等\n",
    "# for i in range(n_clusters_) 本行代码就使用for循环遍历了内置的迭代器rang()函数\n",
    "# i是从range(n_clusters_)中依次取到的每一个整数\n",
    "# print('Cluster ', i, ':') 有多少个簇,就打印多少个i\n",
    "# labels == i 依次检查labels中的每个元素是否与i相等\n",
    "# labels == i 返回一个结构与labels相同的以bool值组成的新数组\n",
    "# X[labels == i] 依次检查X中的每个元素,将对应[labels == i]中True的元素取出\n",
    "# X[labels == i] 返回一个符合条件labels == i的新数组\n",
    "\n",
    "plt.hist(X, 24)  # 绘制直方图\n",
    "\n",
    "# matplotlib.pyplot 是一个命令行式风格的函数库,能够实现MATLAB类似的绘图功能\n",
    "# matplotlib.pyplot.hist 用于绘制直方图\n",
    "# matplotlib.pyplot.hist 函数有一个很长的参数列表, 这里只讲解前两个参数\n",
    "# matplotlib.pyplot.hist(x, bins=None)\n",
    "# 第一个参数x是原始数据，类型是数组或者序列\n",
    "# 第二个参数bins表示直方图横直方条的个数\n",
    "# plt.hist(X, 24) 本行代码传入前面获得的多维数组X,按照24小时时段划分为24个直方条\n",
    "\n",
    "plt.show()  # 课件的源代码中没有这一行,加上这行代码在运行完成后显示matplotlib.pyplot画出的图形\n",
    "\n",
    "# 参考书目和文章：\n",
    "# • 《Python编程快速上手——让繁琐工作自动化》,作者Al Sweigart, 译者王海鹏\n",
    "# • 《Python学习手册》,作者Mark Lutz, 译者李军、刘红伟等\n",
    "# • 《利用Python进行数据分析》,作者Wes McKinney,译者唐学韬\n",
    "# • 《用scikit-learn学习DBSCAN聚类》(https://www.cnblogs.com/pinard/p/6217852.html)\n",
    "# • 《DBSCAN - 基于密度的聚类算法》(http://blog.csdn.net/sandyzhs/article/details/46773731)\n",
    "# • sklearn.cluster.DBSCAN官方文档(http://scikit-learn.org/stable/modules/generated/sklearn.cluster.DBSCAN.html)\n",
    "# • 注释中的一些描述，直接从书中或文章中摘取了原句\n"
   ]
  },
  {
   "cell_type": "code",
   "execution_count": null,
   "metadata": {
    "scrolled": true
   },
   "outputs": [],
   "source": [
    "import numpy as np\n",
    "import sklearn.cluster as skc\n",
    "from sklearn import metrics\n",
    "import matplotlib.pyplot as plt\n",
    "\n",
    "mac2id = dict()\n",
    "onlinetimes = []\n",
    "f = open('.\\\\biteduML-master\\\\studynotes\\\\dbscan-onlinetime\\\\TestData.txt', encoding='utf-8')\n",
    "for line in f:\n",
    "    mac = line.split(',')[2]\n",
    "    onlinetime = int(line.split(',')[6])\n",
    "    starttime = int(line.split(',')[4].split(' ')[1].split(':')[0])\n",
    "    if mac not in mac2id:\n",
    "        mac2id[mac] = len(onlinetimes)\n",
    "        onlinetimes.append((starttime, onlinetime))\n",
    "    else:\n",
    "        onlinetimes[mac2id[mac]] = [(starttime, onlinetime)]\n",
    "real_X = np.array(onlinetimes).reshape((-1, 2))\n",
    "\n",
    "X = real_X[:, 0:1]\n",
    "\n",
    "db = skc.DBSCAN(eps=0.01, min_samples=20).fit(X)\n",
    "labels = db.labels_\n",
    "\n",
    "print('Labels:')\n",
    "print(labels)\n",
    "raito = len(labels[labels[:] == -1]) / len(labels)\n",
    "print('Noise raito:', format(raito, '.2%'))\n",
    "\n",
    "n_clusters_ = len(set(labels)) - (1 if -1 in labels else 0)\n",
    "\n",
    "print('Estimated number of clusters: %d' % n_clusters_)\n",
    "print(\"Silhouette Coefficient: %0.3f\" % metrics.silhouette_score(X, labels))\n",
    "\n",
    "for i in range(n_clusters_):\n",
    "    print('Cluster ', i, ':')\n",
    "    print(list(X[labels == i].flatten()))\n",
    "\n",
    "plt.hist(X, 24)"
   ]
  },
  {
   "cell_type": "code",
   "execution_count": null,
   "metadata": {},
   "outputs": [],
   "source": [
    "import matplotlib.pyplot as plt  # 引入matplotlib.pyplot用于数据可视化\n",
    "from sklearn.decomposition import PCA  # 引入PCA算法包\n",
    "from sklearn.datasets import load_iris  # 引入鸢尾花数据集导入函数\n",
    "data = load_iris()  # 以字典形式加载鸢尾花数据集\n",
    "y = data.target\n",
    "print (y)\n",
    "X = data.data\n",
    "pca = PCA (n_components =2)\n",
    "reduce_X = pca.fit_transform(X)\n",
    "print (reduce_X)\n",
    "red_x, red_y = [], []  # 第一类数据点\n",
    "blue_x, blue_y = [], []  # 第二类数据点\n",
    "green_x, green_y = [], []  # 第三类数据点\n",
    "\n",
    "for i in range(len(reduce_X)):\n",
    "    if y[i] == 0:\n",
    "            red_x.append(reduce_X[i][0])\n",
    "            red_y.append(reduce_X[i][1])\n",
    "    elif y[i] == 1:\n",
    "        # 原理同y[i] == 0\n",
    "        blue_x.append(reduce_X[i][0])\n",
    "        blue_y.append(reduce_X[i][1])\n",
    "    # y[i] == 2 表示当前标签属于第三类数据点\n",
    "    else:\n",
    "        # 原理同y[i] == 0\n",
    "        green_x.append(reduce_X[i][0])\n",
    "        green_y.append(reduce_X[i][1])\n",
    "plt.scatter(red_x, red_y, c='r', marker='x')  # 第一类数据点\n",
    "# marker='x'表示用叉标记\n",
    "plt.scatter(blue_x, blue_y, c='b', marker='D')  # 第二类数据点\n",
    "# marker='D'表示用方块标记\n",
    "plt.scatter(green_x, green_y, c='g', marker='.')  # 第三类数据点\n",
    "# marker='.'表示用点标记\n",
    "\n",
    "plt.show()  # 可视化,显示散点图"
   ]
  },
  {
   "cell_type": "code",
   "execution_count": null,
   "metadata": {},
   "outputs": [],
   "source": [
    "import numpy as np  # 导入numpy包\n",
    "import PIL.Image as image  # 导入PIL包,用于加载创建图片\n",
    "from sklearn.cluster import KMeans  # 加载KMeans算法\n",
    "def loadData(filePath):\n",
    "    f = open(filePath,'rb+')\n",
    "    data = []\n",
    "    img = image.open(f)\n",
    "    m,n = img.size\n",
    "    for i in range(m):\n",
    "        for j in range(n):\n",
    "            x, y, z = img.getpixel((i, j))\n",
    "            data.append([x / 256.0, y / 256.0, z / 256.0])\n",
    "    f.close()\n",
    "    return np.mat(data), m, n  # 分别返回三个数据,data,图片大小的纵值m和横值n\n",
    "\n",
    "imgData,row,col = loadData('bull.jpg')\n",
    "km = KMeans(n_clusters=4)\n",
    "label = km.fit_predict(imgData)\n",
    "label = label.reshape([row, col])\n",
    "pic_new = image.new(\"L\", (row, col))\n",
    "for i in range(row):\n",
    "    for j in range(col):\n",
    "        pic_new.putpixel((i, j), int(256 / (label[i][j] + 1)))  # 根据所属类别向图片添加灰度值\n",
    "pic_new.save(\"result-bull-4.jpg\", \"JPEG\")  # 以JPEG格式保存图片\n",
    "\n",
    "# 通过设置不同的 k值,能够得到不同的聚类结果\n",
    "# 同时k值的不确定也是Kmeans算法的一个缺点\n",
    "# 为了达到好实验结果,需要进行多次尝试才能够选取最优的 k值\n",
    "# 而像层次聚类的算法,就无需指定k值,只要给定限制条件,就能自动地得到类别数\n",
    "\n",
    "    "
   ]
  },
  {
   "cell_type": "code",
   "execution_count": null,
   "metadata": {},
   "outputs": [],
   "source": [
    "import numpy as np\n",
    "import pandas as pd\n",
    "from sklearn.preprocessing import Imputer\n",
    "from sklearn.model_selection import train_test_split #cross_validation has been instead of model_selection\n",
    "from sklearn.metrics import classification_report\n",
    "\n",
    "from sklearn.neighbors import KNeighborsClassifier\n",
    "from sklearn.tree import DecisionTreeClassifier\n",
    "from sklearn.naive_bayes import GaussianNB\n",
    "\n",
    "def load_datasets(feature_paths,label_paths):\n",
    "    feature= np.ndarray(shape = (0,41))\n",
    "    label = np.ndarray(shape = (0,1))\n",
    "    \n",
    "    for file in feature_paths:\n",
    "        df=pd.read_table(file,delimiter=',',na_values='?',header=None)\n",
    "        imp = Imputer(missing_values='NaN',strategy = 'mean',axis= 0)\n",
    "        imp.fit(df)\n",
    "        df = imp.transform(df)\n",
    "        feature = np.concatenate((feature,df))\n",
    "    for file in label_paths:\n",
    "        df= pd.read_table(file,header= None)\n",
    "        label = np.concatenate((label,df))\n",
    "    lable = np.ravel(label)\n",
    "    return feature,label\n",
    "\n",
    "if __name__ == '__main__':\n",
    "        featurePaths = ['A.feature', 'B.feature', 'C.feature', 'D.feature', 'E.feature']\n",
    "        labelPaths = ['A.label', 'B.label', 'C.label', 'D.label', 'E.label']\n",
    "        x_train,y_train = load_datasets(featurePaths[:4],labelPaths[:4])\n",
    "        print (x_train)\n",
    "        print (y_train)\n",
    "        x_test, y_test = load_datasets(featurePaths[4:], labelPaths[4:])\n",
    "        x_train, x_, y_train, y_ = train_test_split(x_train, y_train, test_size=0.0)\n",
    "        print('Start training knn')\n",
    "        knn=KNeighborsClassifier().fit(x_train,y_train)\n",
    "        print('Training done')\n",
    "        answer_knn = knn.predict(x_test)\n",
    "        print(classification_report(y_test, answer_knn))\n",
    "        print('Prediction done')\n",
    "        \n",
    "\n",
    "\n"
   ]
  },
  {
   "cell_type": "code",
   "execution_count": 9,
   "metadata": {},
   "outputs": [
    {
     "name": "stderr",
     "output_type": "stream",
     "text": [
      "D:\\Anaconda3\\lib\\site-packages\\ipykernel_launcher.py:16: DeprecationWarning: \n",
      ".ix is deprecated. Please use\n",
      ".loc for label based indexing or\n",
      ".iloc for positional indexing\n",
      "\n",
      "See the documentation here:\n",
      "http://pandas.pydata.org/pandas-docs/stable/indexing.html#ix-indexer-is-deprecated\n",
      "  app.launch_new_instance()\n",
      "D:\\Anaconda3\\lib\\site-packages\\ipykernel_launcher.py:20: DeprecationWarning: \n",
      ".ix is deprecated. Please use\n",
      ".loc for label based indexing or\n",
      ".iloc for positional indexing\n",
      "\n",
      "See the documentation here:\n",
      "http://pandas.pydata.org/pandas-docs/stable/indexing.html#ix-indexer-is-deprecated\n",
      "D:\\Anaconda3\\lib\\site-packages\\sklearn\\svm\\base.py:196: FutureWarning: The default value of gamma will change from 'auto' to 'scale' in version 0.22 to account better for unscaled features. Set gamma explicitly to 'auto' or 'scale' to avoid this warning.\n",
      "  \"avoid this warning.\", FutureWarning)\n",
      "D:\\Anaconda3\\lib\\site-packages\\sklearn\\svm\\base.py:196: FutureWarning: The default value of gamma will change from 'auto' to 'scale' in version 0.22 to account better for unscaled features. Set gamma explicitly to 'auto' or 'scale' to avoid this warning.\n",
      "  \"avoid this warning.\", FutureWarning)\n",
      "D:\\Anaconda3\\lib\\site-packages\\sklearn\\svm\\base.py:196: FutureWarning: The default value of gamma will change from 'auto' to 'scale' in version 0.22 to account better for unscaled features. Set gamma explicitly to 'auto' or 'scale' to avoid this warning.\n",
      "  \"avoid this warning.\", FutureWarning)\n",
      "D:\\Anaconda3\\lib\\site-packages\\sklearn\\svm\\base.py:196: FutureWarning: The default value of gamma will change from 'auto' to 'scale' in version 0.22 to account better for unscaled features. Set gamma explicitly to 'auto' or 'scale' to avoid this warning.\n",
      "  \"avoid this warning.\", FutureWarning)\n",
      "D:\\Anaconda3\\lib\\site-packages\\sklearn\\svm\\base.py:196: FutureWarning: The default value of gamma will change from 'auto' to 'scale' in version 0.22 to account better for unscaled features. Set gamma explicitly to 'auto' or 'scale' to avoid this warning.\n",
      "  \"avoid this warning.\", FutureWarning)\n"
     ]
    },
    {
     "name": "stdout",
     "output_type": "stream",
     "text": [
      "svm classifier accuacy:\n",
      "[0.5439739413680782, 0.5309446254071661, 0.5352877307274702, 0.5407166123778502, 0.5309446254071661]\n"
     ]
    }
   ],
   "source": [
    "import pandas as pd  # 引入pandas库，用来加载CSV数据\n",
    "import numpy as np  # 引入numpy库，支持高级大量的维度数组与矩阵运算，此外也针对数组运算提供大量的数学函数库\n",
    "from sklearn import svm  # svm库\n",
    "from sklearn.model_selection import train_test_split\n",
    "\n",
    "data=pd.read_csv('.\\\\biteduML-master\\\\studynotes\\\\svm-stock\\\\000777.csv',encoding='gbk',parse_dates=[0],index_col=0)\n",
    "data.sort_index(0,ascending=True,inplace=True)\n",
    "\n",
    "dayfeature = 150\n",
    "featurenum = 5*150\n",
    "x = np.zeros((data.shape[0] - dayfeature, featurenum + 1))\n",
    "y = np.zeros((data.shape[0] - dayfeature))\n",
    "for i in range(data.shape[0]-dayfeature):\n",
    "    x[i, 0:featurenum] = np.array(data[i:i + dayfeature] \\\n",
    "                                      [[u'收盘价', u'最高价', u'最低价', u'开盘价', u'成交量']]).reshape((1, featurenum))\n",
    "    x[i, featurenum] = data.ix[i + dayfeature][u'开盘价']\n",
    "\n",
    "for i in range(0, data.shape[0] - dayfeature):\n",
    "    # 如果当天收盘价高于开盘价，y[i]=1代表涨,y[i]=0代表跌\n",
    "    if data.ix[i + dayfeature][u'收盘价'] >= data.ix[i + dayfeature][u'开盘价']:\n",
    "        y[i] = 1\n",
    "    else:\n",
    "        y[i] = 0\n",
    "# 调用svm函数，并设置kernel参数，默认是rbf，其他参数有linear，poly，sigmoid\n",
    "clf = svm.SVC(kernel='rbf')\n",
    "result = []\n",
    "for i in range(5):\n",
    "    # x和y的验证集和测试集，切分80-20%的测试集\n",
    "    x_train, x_test, y_train, y_test = \\\n",
    "    train_test_split(x, y, test_size=0.2)\n",
    "    # 使用训练数据训练\n",
    "    clf.fit(x_train, y_train)\n",
    "    # 将预测数据和测试集的验证数据比对\n",
    "    result.append(np.mean(y_test == clf.predict(x_test)))\n",
    "print(\"svm classifier accuacy:\")\n",
    "print(result)"
   ]
  },
  {
   "cell_type": "code",
   "execution_count": 5,
   "metadata": {},
   "outputs": [
    {
     "data": {
      "image/png": "[encoded data removed]",
      "text/plain": [
       "<Figure size 432x288 with 1 Axes>"
      ]
     },
     "metadata": {
      "needs_background": "light"
     },
     "output_type": "display_data"
    }
   ],
   "source": [
    "import matplotlib.pyplot as plt  # matplotlib的pyplot子库提供了和matlab类似的绘图api，方便用户快速绘制2D图表\n",
    "import numpy as np\n",
    "from sklearn import linear_model\n",
    "from sklearn.preprocessing import PolynomialFeatures\n",
    "datasets_X =[]\n",
    "datasets_Y=[]\n",
    "fr = open('.\\\\biteduML-master\\\\studynotes\\\\regression-house-prices\\\\prices.txt','r')\n",
    "lines = fr.readlines()\n",
    "for line in lines:\n",
    "    items=line.strip().split(',')\n",
    "    datasets_X.append(int(items[0]))\n",
    "    datasets_Y.append(int(items[1]))\n",
    "length = len(datasets_X)\n",
    "datasets_X=np.array(datasets_X).reshape([length,1])#关于参数维度的思考\n",
    "datasets_Y=np.array(datasets_Y)\n",
    "minX = min(datasets_X)\n",
    "maxX = max(datasets_X)\n",
    "X = np.arange(minX,maxX).reshape([-1,1])\n",
    "poly_reg = PolynomialFeatures(degree=2)\n",
    "X_poly = poly_reg.fit_transform(datasets_X)\n",
    "lin_reg_2=linear_model.LinearRegression()\n",
    "lin_reg_2.fit(X_poly,datasets_Y)\n",
    "plt.scatter(datasets_X,datasets_Y,color='red')\n",
    "plt.plot(X,lin_reg_2.predict(poly_reg.fit_transform(X)),color='blue')\n",
    "plt.xlabel=('area')\n",
    "plt.ylabel=('price')\n",
    "plt.show()"
   ]
  },
  {
   "cell_type": "code",
   "execution_count": 8,
   "metadata": {},
   "outputs": [
    {
     "data": {
      "image/png": "[encoded data removed]",
      "text/plain": [
       "<Figure size 432x288 with 1 Axes>"
      ]
     },
     "metadata": {
      "needs_background": "light"
     },
     "output_type": "display_data"
    }
   ],
   "source": [
    "# 线性回归(Linear Regression) 是利用数理统计中回归分析，来确定两种或以上变量间相互依赖的定关系一统计分析方法\n",
    "# 线性回归利用称为线性回归方程的最小平函数对一个或多个自变量和因变量之间的关系进行建模\n",
    "# 这种函数是一个或多称为回归系数的模型参数的线性组合\n",
    "# 只有一个自变量情况称为简单回归,大于一个自变量情况的叫做多元回归\n",
    "# 线性回归有很多实际的用途，分为以下两类：\n",
    "# 1. 如果目标是预测或者映射，线性回归可以用来对观数据集的y和X的值拟合出一个预测模型。\n",
    "# 当完成这样一个模型以后，对于新增X值，在没有给定与它相配对的y的情况下，可以用这个拟合过的模型预测出一y值\n",
    "# 2. 给定一个变量y和一些变量X1,⋯,𝑋𝑝,这些变量有可能与y相关\n",
    "# 线性回归分析可以用来量化y与X𝑗之间相关性的强度，评估出与y不相关的X𝑗，并识别出哪些X𝑗的子集包含了关于y的冗余信息\n",
    "\n",
    "# 背景：\n",
    "# 与房价密切相关的除了单位，还有屋尺寸。\n",
    "# 根据已知的房屋成交价和尺寸进行线性回归，继而可以对已知房屋尺寸而未知房屋成交价格的实例进行成交价格预测\n",
    "# 目标：\n",
    "# 对房屋成交信息建立回归方程，并依据回归方程对房屋价格进行预测\n",
    "# 简单而直观的方式是通过数据可视化直接观察房屋成交价格与屋尺寸间是否存在线性关系\n",
    "# 对于本实验的数据来说，散点图就可以很好将其在二维平面中进行可视化表示\n",
    "\n",
    "# 使用算法：线性回归\n",
    "# 实现步骤：\n",
    "# 1. 建立 工程并导入 sklearn 包\n",
    "# 2. 加载 训练 数据，建立回归方程\n",
    "# 3. 可视化处理\n",
    "import matplotlib.pyplot as plt  # matplotlib的pyplot子库提供了和matlab类似的绘图api，方便用户快速绘制2D图表\n",
    "import numpy as np  # numpy是python语言的一个扩充程序库。支持高级大量的维度数组与矩阵运算，此外也针对数组运算提供大量的数学函数库\n",
    "from sklearn import linear_model  # 导入线性回归模块\n",
    "\n",
    "# 建立datasets_X和datasets_Y用来存储数据中的房屋尺寸和房屋成交价格\n",
    "datasets_X = []\n",
    "datasets_Y = []\n",
    "# 打开数据集所在文件prices.txt，读取数据\n",
    "fr = open('.\\\\biteduML-master\\\\studynotes\\\\regression-house-prices\\\\prices.txt', 'r')\n",
    "lines = fr.readlines()  # 读取整个文件\n",
    "for line in lines:  # 逐行操作，遍历所有数据\n",
    "    # 去除数据文件中的逗号\n",
    "    items = line.strip().split(',')\n",
    "    # 将读取的数据转换为int型，分别写入datasets_X和datasets_Y\n",
    "    datasets_X.append(int(items[0]))\n",
    "    datasets_Y.append(int(items[1]))\n",
    "\n",
    "length = len(datasets_X)  # 求得datasets_X的长度，即为数据的总数\n",
    "# 将datasets_X转化为数组，接着用reshape转为二维，以符合线性回归拟合函数输入参数的要求\n",
    "datasets_X = np.array(datasets_X).reshape([length, 1])\n",
    "# 将datasets_Y转为数组\n",
    "datasets_Y = np.array(datasets_Y)\n",
    "\n",
    "minX = min(datasets_X)\n",
    "maxX = max(datasets_X)\n",
    "# 以数据datasets_X的最大值和最小值为范围，建立等差数列，方便后续画图\n",
    "X = np.arange(minX, maxX).reshape([-1, 1])\n",
    "\n",
    "# 调用线性回归模块，建立回归方程\n",
    "linear = linear_model.LinearRegression()\n",
    "# 调用sklearn.linear_model.LinearRegression()所需参数\n",
    "# fit_intercept: 布尔型参数，表示是否计算该模型截距，可选参数\n",
    "# normalize：布尔型参数，若为True则X在回归前进行归一化，可选参数。默认值为False\n",
    "# copy_X：布尔型参数，若为True，则X将被复制；否则将被覆盖。可选参数，默认值为True\n",
    "# n_jobs：整型参数，表示用于计算的作业数量，若为-1，则用所有CPU；可选参数，默认值为1\n",
    "\n",
    "# 拟合函数\n",
    "linear.fit(datasets_X, datasets_Y)\n",
    "# 线性回归fit函数用于你和输入输出数据，调用形式为linear.fit(X,y,sample_weight=None):\n",
    "# X: X为训练向量\n",
    "# y：y为相对于X的目标向量\n",
    "# sample_weight：分配给各个样本的权重数组，一般不需要使用，可省略\n",
    "\n",
    "# 如果有需要，可以通过两个属性查看回归方程的系数与截距\n",
    "# 具体代码如下：\n",
    "# 查看回归方程系数：\n",
    "# print('Coefficients', linear.coef_)\n",
    "# 查看回归方程截距\n",
    "# print('intercept',linear.intercept)\n",
    "\n",
    "# scatter函数用于绘制数据点，这里表示用红色绘制数据点\n",
    "plt.scatter(datasets_X, datasets_Y, color='red')\n",
    "# plot函数用于绘制直线，这里表示用蓝色绘制回归线\n",
    "plt.plot(X, linear.predict(X), color='blue')\n",
    "plt.xlabel=('area')\n",
    "plt.ylabel=('price')\n",
    "plt.show()\n"
   ]
  },
  {
   "cell_type": "code",
   "execution_count": 23,
   "metadata": {},
   "outputs": [
    {
     "name": "stdout",
     "output_type": "stream",
     "text": [
      "MLPClassifier(activation='logistic', alpha=0.0001, batch_size='auto',\n",
      "       beta_1=0.9, beta_2=0.999, early_stopping=False, epsilon=1e-08,\n",
      "       hidden_layer_sizes=(100,), learning_rate='constant',\n",
      "       learning_rate_init=0.0001, max_iter=2000, momentum=0.9,\n",
      "       n_iter_no_change=10, nesterovs_momentum=True, power_t=0.5,\n",
      "       random_state=None, shuffle=True, solver='adam', tol=0.0001,\n",
      "       validation_fraction=0.1, verbose=False, warm_start=False)\n",
      "Total num: 946  Wrong num: 40   WrongRate: 0.042283298097251586\n"
     ]
    }
   ],
   "source": [
    "import numpy as np\n",
    "from os import listdir\n",
    "from sklearn.neural_network import MLPClassifier\n",
    "def img2vector(fileName):\n",
    "    retMat = np.zeros([1024],int)\n",
    "    fr = open(fileName)\n",
    "    lines=fr.readlines()\n",
    "    for i in range(32):\n",
    "        for j in range(32):\n",
    "            retMat[i*32 + j]=lines[i][j]#？？？\n",
    "    return retMat\n",
    "def readDataSet(path):\n",
    "    fileList = listdir(path)\n",
    "    numFiles = len(fileList)\n",
    "    dataSet = np.zeros([numFiles,1024],int)\n",
    "    hwLabels = np.zeros([numFiles, 10])  # 用于存放对应的one-hot标签\n",
    "    for i in range(numFiles):  # 遍历所有的文件\n",
    "        filePath = fileList[i]  # 获取文件名称/路径\n",
    "        digit = int(filePath.split('_')[0])  # 通过文件名获取标签\n",
    "        hwLabels[i][digit] = 1.0  # 将对应的one-hot标签置1\n",
    "        dataSet[i] = img2vector(path + '/' + filePath)  # 读取文件内容\n",
    "    return dataSet, hwLabels\n",
    "\n",
    "train_dataSet, train_hwLabels = readDataSet('trainingDigits')\n",
    "'''\n",
    "print (np.shape(train_dataSet))\n",
    "print (np.shape(train_hwLabels))\n",
    "print (train_dataSet)\n",
    "print (train_hwLabels)\n",
    "'''\n",
    "clf = MLPClassifier(hidden_layer_sizes=(100,),\n",
    "                    activation='logistic', solver='adam',\n",
    "                    learning_rate_init=0.0001, max_iter=2000)\n",
    "print(clf)\n",
    "clf.fit(train_dataSet, train_hwLabels)\n",
    "\n",
    "dataSet, hwLabels = readDataSet('testDigits')\n",
    "res = clf.predict(dataSet)  # 对测试集进行预测\n",
    "error_num = 0  # 统计预测错误的数目\n",
    "num = len(dataSet)  # 测试集的数目\n",
    "for i in range(num):  # 遍历预测结果\n",
    "    # 比较长度为10的数组，返回包含01的数组，0为不同，1为相同\n",
    "    # 若预测结果与真实结果相同，则10个数字全为1，否则不全为1\n",
    "    if np.sum(res[i] == hwLabels[i]) < 10:\n",
    "        error_num += 1\n",
    "print(\"Total num:\", num, \" Wrong num:\", \\\n",
    "      error_num, \"  WrongRate:\", error_num / float(num))\n",
    "\n",
    "\n",
    "    "
   ]
  },
  {
   "cell_type": "code",
   "execution_count": 1,
   "metadata": {},
   "outputs": [
    {
     "name": "stdout",
     "output_type": "stream",
     "text": [
      "[[12.]]\n"
     ]
    }
   ],
   "source": [
    "import tensorflow as tf\n",
    "mat1 = tf.constant([[3.,3.]])\n",
    "mat2 = tf.constant([[2.0],[2.0]])\n",
    "product = tf.matmul(mat1,mat2)\n",
    "sess= tf.Session()\n",
    "res = sess.run(product)\n",
    "print (res)\n",
    "    "
   ]
  },
  {
   "cell_type": "code",
   "execution_count": 2,
   "metadata": {},
   "outputs": [
    {
     "ename": "ModuleNotFoundError",
     "evalue": "No module named 'wrapped_flappy_bird'",
     "output_type": "error",
     "traceback": [
      "\u001b[1;31m---------------------------------------------------------------------------\u001b[0m",
      "\u001b[1;31mModuleNotFoundError\u001b[0m                       Traceback (most recent call last)",
      "\u001b[1;32m<ipython-input-2-d648d8f97cbc>\u001b[0m in \u001b[0;36m<module>\u001b[1;34m\u001b[0m\n\u001b[0;32m      6\u001b[0m \u001b[1;33m\u001b[0m\u001b[0m\n\u001b[0;32m      7\u001b[0m \u001b[0msys\u001b[0m\u001b[1;33m.\u001b[0m\u001b[0mpath\u001b[0m\u001b[1;33m.\u001b[0m\u001b[0mappend\u001b[0m\u001b[1;33m(\u001b[0m\u001b[1;34m\"game/\"\u001b[0m\u001b[1;33m)\u001b[0m\u001b[1;33m\u001b[0m\u001b[1;33m\u001b[0m\u001b[0m\n\u001b[1;32m----> 8\u001b[1;33m \u001b[1;32mimport\u001b[0m \u001b[0mwrapped_flappy_bird\u001b[0m \u001b[1;32mas\u001b[0m \u001b[0mgame\u001b[0m\u001b[1;33m\u001b[0m\u001b[1;33m\u001b[0m\u001b[0m\n\u001b[0m\u001b[0;32m      9\u001b[0m \u001b[1;32mimport\u001b[0m \u001b[0mrandom\u001b[0m\u001b[1;33m\u001b[0m\u001b[1;33m\u001b[0m\u001b[0m\n\u001b[0;32m     10\u001b[0m \u001b[1;32mimport\u001b[0m \u001b[0mnumpy\u001b[0m \u001b[1;32mas\u001b[0m \u001b[0mnp\u001b[0m\u001b[1;33m\u001b[0m\u001b[1;33m\u001b[0m\u001b[0m\n",
      "\u001b[1;31mModuleNotFoundError\u001b[0m: No module named 'wrapped_flappy_bird'"
     ]
    }
   ],
   "source": [
    "from __future__ import print_function\n",
    "\n",
    "import tensorflow as tf\n",
    "import cv2\n",
    "import sys\n",
    "\n",
    "sys.path.append(\"game/\")\n",
    "import wrapped_flappy_bird as game\n",
    "import random\n",
    "import numpy as np\n",
    "from collections import deque\n",
    "\n",
    "GAME = 'bird'\n",
    "ACTIONS = 2\n",
    "GAMMA = 0.99\n",
    "OBSERVE = 10000.\n",
    "EXPLORE = 3000000.\n",
    "FINAL_EPSILON = 0.0001\n",
    "INITIAL_EPSILON = 0.0001\n",
    "REPLAY_MEMORY = 50000\n",
    "BATCH = 32\n",
    "FRAME_PER_ACTION = 1\n",
    "\n",
    "\n",
    "def weight_variable(shape):\n",
    "    initial = tf.truncated_normal(shape, stddev=0.01)\n",
    "    return tf.Variable(initial)\n",
    "\n",
    "\n",
    "def bias_variable(shape):\n",
    "    initial = tf.constant(0.01, shape=shape)\n",
    "    return tf.Variable(initial)\n",
    "\n",
    "\n",
    "def conv2d(x, W, stride):\n",
    "    return tf.nn.conv2d(x, W, strides=[1, stride, stride, 1], padding=\"SAME\")\n",
    "\n",
    "\n",
    "def max_pool_2x2(x):\n",
    "    return tf.nn.max_pool(x, ksize=[1, 2, 2, 1], strides=[1, 2, 2, 1], padding=\"SAME\")\n",
    "\n",
    "\n",
    "def createNetwork():\n",
    "    # 定义深度神经网络的参数和偏置\n",
    "    W_conv1 = weight_variable([8, 8, 4, 32])\n",
    "    b_conv1 = bias_variable([32])\n",
    "\n",
    "    W_conv2 = weight_variable([4, 4, 32, 64])\n",
    "    b_conv2 = bias_variable([64])\n",
    "\n",
    "    W_conv3 = weight_variable([3, 3, 64, 64])\n",
    "    b_conv3 = bias_variable([64])\n",
    "\n",
    "    W_fc1 = weight_variable([1600, 512])\n",
    "    b_fc1 = bias_variable([512])\n",
    "\n",
    "    W_fc2 = weight_variable([512, ACTIONS])\n",
    "    b_fc2 = bias_variable([ACTIONS])\n",
    "\n",
    "    # 输入层\n",
    "    s = tf.placeholder(\"float\", [None, 80, 80, 4])\n",
    "\n",
    "    # 隐藏层\n",
    "    h_conv1 = tf.nn.relu(conv2d(s, W_conv1, 4) + b_conv1)\n",
    "    h_pool1 = max_pool_2x2(h_conv1)\n",
    "\n",
    "    h_conv2 = tf.nn.relu(conv2d(h_pool1, W_conv2, 2) + b_conv2)\n",
    "\n",
    "    h_conv3 = tf.nn.relu(conv2d(h_conv2, W_conv3, 1) + b_conv3)\n",
    "\n",
    "    h_conv3_flat = tf.reshape(h_conv3, [-1, 1600])\n",
    "\n",
    "    h_fc1 = tf.nn.relu(tf.matmul(h_conv3_flat, W_fc1) + b_fc1)\n",
    "\n",
    "    # 输出层\n",
    "    readout = tf.matmul(h_fc1, W_fc2) + b_fc2\n",
    "\n",
    "    return s, readout, h_fc1\n",
    "\n",
    "\n",
    "def trainNetwork(s, readout, h_fc1, sess):\n",
    "    # 定义损失函数\n",
    "    a = tf.placeholder(\"float\", [None, ACTIONS])\n",
    "    y = tf.placeholder(\"float\", [None])\n",
    "    readout_action = tf.reduce_sum(tf.multiply(readout, a),\n",
    "                                   reduction_indices=1)\n",
    "    cost = tf.reduce_mean(tf.square(y - readout_action))\n",
    "    train_step = tf.train.AdamOptimizer(1e-6).minimize(cost)\n",
    "\n",
    "    # 开启游戏模拟器，会打开一个模拟器的窗口，实时显示游戏的信息\n",
    "    game_state = game.GameState()\n",
    "\n",
    "    # 创建双端队列用于存放replay memory\n",
    "    D = deque()\n",
    "\n",
    "    # 获取游戏的初始状态，设置动作为不执行跳跃，并将初始状态修改成80*80*4大小\n",
    "    do_nothing = np.zeros(ACTIONS)\n",
    "    do_nothing[0] = 1\n",
    "    x_t, r_0, terminal = game_state.frame_step(do_nothing)\n",
    "    x_t = cv2.cvtColor(cv2.resize(x_t, (80, 80)), cv2.COLOR_BGR2GRAY)\n",
    "    ret, x_t = cv2.threshold(x_t, 1, 255, cv2.THRESH_BINARY)\n",
    "    s_t = np.stack((x_t, x_t, x_t, x_t), axis=2)\n",
    "\n",
    "    # 用于加载或保存网络参数\n",
    "    saver = tf.train.Saver()\n",
    "    sess.run(tf.initialize_all_variables())\n",
    "    checkpoint = tf.train.get_checkpoint_state(\"saved_networks\")\n",
    "    if checkpoint and checkpoint.model_checkpoint_path:\n",
    "        saver.restore(sess, checkpoint.model_checkpoint_path)\n",
    "        print(\"Successfully loaded:\", checkpoint.model_checkpoint_path)\n",
    "    else:\n",
    "        print(\"Could not find old network weights\")\n",
    "\n",
    "    # 开始训练\n",
    "    epsilon = INITIAL_EPSILON\n",
    "    t = 0\n",
    "    while \"flappy bird\" != \"angry bird\":\n",
    "        # 使用epsilon贪心策略选择一个动作\n",
    "        readout_t = readout.eval(feed_dict={s: [s_t]})[0]\n",
    "        a_t = np.zeros([ACTIONS])\n",
    "        action_index = 0\n",
    "        if t % FRAME_PER_ACTION == 0:\n",
    "            # 执行一个随机动作\n",
    "            if random.random() <= epsilon:\n",
    "                print(\"----------Random Action----------\")\n",
    "                action_index = random.randrange(ACTIONS)\n",
    "                a_t[random.randrange(ACTIONS)] = 1\n",
    "            # 由神经网络计算的Q(s,a)值选择对应的动作\n",
    "            else:\n",
    "                action_index = np.argmax(readout_t)\n",
    "                a_t[action_index] = 1\n",
    "        else:\n",
    "            a_t[0] = 1  # 不执行跳跃动作\n",
    "\n",
    "        # 随游戏的进行，不断降低epsilon，减少随机动作\n",
    "        if epsilon > FINAL_EPSILON and t > OBSERVE:\n",
    "            epsilon -= (INITIAL_EPSILON - FINAL_EPSILON) / EXPLORE\n",
    "\n",
    "        # 执行选择的动作，并获得下一状态及回报\n",
    "        x_t1_colored, r_t, terminal = game_state.frame_step(a_t)\n",
    "        x_t1 = cv2.cvtColor(cv2.resize(x_t1_colored, (80, 80)),\n",
    "                            cv2.COLOR_BGR2GRAY)\n",
    "        ret, x_t1 = cv2.threshold(x_t1, 1, 255, cv2.THRESH_BINARY)\n",
    "        x_t1 = np.reshape(x_t1, (80, 80, 1))\n",
    "        s_t1 = np.append(x_t1, s_t[:, :, :3], axis=2)\n",
    "\n",
    "        # 将状态转移过程存储到D中，用于更新参数时采样\n",
    "        D.append((s_t, a_t, r_t, s_t1, terminal))\n",
    "        if len(D) > REPLAY_MEMORY:\n",
    "            D.popleft()\n",
    "\n",
    "        # 过了观察期，才会进行网络参数的更新\n",
    "        if t > OBSERVE:\n",
    "            # 从D中随机采样，用于参数更新\n",
    "            minibatch = random.sample(D, BATCH)\n",
    "\n",
    "            # 分别将当前状态、采取的动作、获得的回报、下一状态分组存放\n",
    "            s_j_batch = [d[0] for d in minibatch]\n",
    "            a_batch = [d[1] for d in minibatch]\n",
    "            r_batch = [d[2] for d in minibatch]\n",
    "            s_j1_batch = [d[3] for d in minibatch]\n",
    "\n",
    "            # 计算Q(s,a)的新值\n",
    "            y_batch = []\n",
    "            readout_j1_batch = readout.eval(feed_dict={s: s_j1_batch})\n",
    "            for i in range(0, len(minibatch)):\n",
    "                terminal = minibatch[i][4]\n",
    "                # 如果游戏结束，则只有反馈值\n",
    "                if terminal:\n",
    "                    y_batch.append(r_batch[i])\n",
    "                else:\n",
    "                    y_batch.append(r_batch[i] +\n",
    "                                   GAMMA * np.max(readout_j1_batch[i]))\n",
    "\n",
    "            # 使用梯度下降更新网络参数\n",
    "            train_step.run(feed_dict={\n",
    "                y: y_batch,\n",
    "                a: a_batch,\n",
    "                s: s_j_batch}\n",
    "            )\n",
    "\n",
    "        # 状态发生改变，用于下次循环\n",
    "        s_t = s_t1\n",
    "        t += 1\n",
    "\n",
    "        # 每进行10000次迭代，保留一下网络参数\n",
    "        if t % 10000 == 0:\n",
    "            saver.save(sess, 'saved_networks/' + GAME + '-dqn', global_step=t)\n",
    "\n",
    "        # 打印游戏信息\n",
    "        state = \"\"\n",
    "        if t <= OBSERVE:\n",
    "            state = \"observe\"\n",
    "        elif t > OBSERVE and t <= OBSERVE + EXPLORE:\n",
    "            state = \"explore\"\n",
    "        else:\n",
    "            state = \"train\"\n",
    "\n",
    "        print(\"TIMESTEP\", t, \"/ STATE\", state, \\\n",
    "              \"/ EPSILON\", epsilon, \"/ ACTION\", action_index, \"/ REWARD\", r_t, \\\n",
    "              \"/ Q_MAX %e\" % np.max(readout_t))\n",
    "\n",
    "\n",
    "def playGame():\n",
    "    sess = tf.InteractiveSession()\n",
    "    s, readout, h_fc1 = createNetwork()\n",
    "    trainNetwork(s, readout, h_fc1, sess)\n",
    "\n",
    "\n",
    "if __name__ == \"__main__\":\n",
    "    playGame()"
   ]
  },
  {
   "cell_type": "code",
   "execution_count": 7,
   "metadata": {},
   "outputs": [
    {
     "ename": "KeyboardInterrupt",
     "evalue": "",
     "output_type": "error",
     "traceback": [
      "\u001b[1;31m---------------------------------------------------------------------------\u001b[0m",
      "\u001b[1;31mKeyboardInterrupt\u001b[0m                         Traceback (most recent call last)",
      "\u001b[1;32m<ipython-input-7-dc25831fc0a2>\u001b[0m in \u001b[0;36m<module>\u001b[1;34m\u001b[0m\n\u001b[0;32m     25\u001b[0m     \u001b[0mprint\u001b[0m \u001b[1;33m(\u001b[0m\u001b[0mlabels\u001b[0m\u001b[1;33m.\u001b[0m\u001b[0mshape\u001b[0m\u001b[1;33m)\u001b[0m\u001b[1;33m\u001b[0m\u001b[1;33m\u001b[0m\u001b[0m\n\u001b[0;32m     26\u001b[0m     \u001b[1;31m#return dataSet, labels\u001b[0m\u001b[1;33m\u001b[0m\u001b[1;33m\u001b[0m\u001b[1;33m\u001b[0m\u001b[0m\n\u001b[1;32m---> 27\u001b[1;33m \u001b[0mtrain_dataSet\u001b[0m\u001b[1;33m,\u001b[0m\u001b[0mtrain_labels\u001b[0m \u001b[1;33m=\u001b[0m\u001b[0mreadDataSet\u001b[0m\u001b[1;33m(\u001b[0m\u001b[1;34m'data_train.txt'\u001b[0m\u001b[1;33m,\u001b[0m\u001b[1;32mFalse\u001b[0m\u001b[1;33m)\u001b[0m\u001b[1;33m\u001b[0m\u001b[1;33m\u001b[0m\u001b[0m\n\u001b[0m\u001b[0;32m     28\u001b[0m \u001b[1;33m\u001b[0m\u001b[0m\n\u001b[0;32m     29\u001b[0m clf = MLPClassifier(hidden_layer_sizes=(10,),\n",
      "\u001b[1;32m<ipython-input-7-dc25831fc0a2>\u001b[0m in \u001b[0;36mreadDataSet\u001b[1;34m(fileName, isTest)\u001b[0m\n\u001b[0;32m     20\u001b[0m         \u001b[1;32mfor\u001b[0m \u001b[0mj\u001b[0m \u001b[1;32min\u001b[0m \u001b[0mrange\u001b[0m\u001b[1;33m(\u001b[0m\u001b[1;36m53\u001b[0m\u001b[1;33m)\u001b[0m\u001b[1;33m:\u001b[0m\u001b[1;33m\u001b[0m\u001b[1;33m\u001b[0m\u001b[0m\n\u001b[0;32m     21\u001b[0m             \u001b[0mdatas\u001b[0m\u001b[1;33m[\u001b[0m\u001b[0mj\u001b[0m\u001b[1;33m]\u001b[0m\u001b[1;33m=\u001b[0m\u001b[0mline\u001b[0m\u001b[1;33m.\u001b[0m\u001b[0msplit\u001b[0m\u001b[1;33m(\u001b[0m\u001b[1;34m' '\u001b[0m\u001b[1;33m)\u001b[0m\u001b[1;33m[\u001b[0m\u001b[0mj\u001b[0m\u001b[1;33m]\u001b[0m\u001b[1;33m\u001b[0m\u001b[1;33m\u001b[0m\u001b[0m\n\u001b[1;32m---> 22\u001b[1;33m         \u001b[0mdataSet\u001b[0m\u001b[1;33m[\u001b[0m\u001b[0mi\u001b[0m\u001b[1;33m]\u001b[0m\u001b[1;33m=\u001b[0m\u001b[0mdatas\u001b[0m\u001b[1;33m\u001b[0m\u001b[1;33m\u001b[0m\u001b[0m\n\u001b[0m\u001b[0;32m     23\u001b[0m     \u001b[0mfr\u001b[0m\u001b[1;33m.\u001b[0m\u001b[0mclose\u001b[0m\u001b[1;33m(\u001b[0m\u001b[1;33m)\u001b[0m\u001b[1;33m\u001b[0m\u001b[1;33m\u001b[0m\u001b[0m\n\u001b[0;32m     24\u001b[0m     \u001b[0mprint\u001b[0m \u001b[1;33m(\u001b[0m\u001b[0mdataSet\u001b[0m\u001b[1;33m.\u001b[0m\u001b[0mshape\u001b[0m\u001b[1;33m)\u001b[0m\u001b[1;33m\u001b[0m\u001b[1;33m\u001b[0m\u001b[0m\n",
      "\u001b[1;31mKeyboardInterrupt\u001b[0m: "
     ]
    }
   ],
   "source": [
    "import numpy as np\n",
    "from sklearn.neural_network import MLPClassifier\n",
    "\n",
    "def readDataSet(fileName,isTest):\n",
    "    fr = open(fileName,encoding='utf-8')\n",
    "    lines = fr.readlines()\n",
    "    numLabels = len(lines)\n",
    "    labels = np.zeros(numLabels)\n",
    "    dataSet = np.zeros([numLabels,54],int)\n",
    "    \n",
    "    for i in range(numLabels):\n",
    "        line = lines[i]\n",
    "        label = 0\n",
    "        if isTest:\n",
    "            label = 0\n",
    "        else:\n",
    "            label =line.split(' ')[54]\n",
    "        labels[i] =label\n",
    "        datas = np.zeros(54)\n",
    "        for j in range(53):\n",
    "            datas[j]=line.split(' ')[j]\n",
    "        dataSet[i]=datas\n",
    "    fr.close()\n",
    "    #print (dataSet.shape)\n",
    "    #print (labels.shape)\n",
    "    return dataSet, labels\n",
    "train_dataSet,train_labels =readDataSet('data_train.txt',False)\n",
    "\n",
    "clf = MLPClassifier(hidden_layer_sizes=(10,),\n",
    "                    activation='logistic', solver='adam',\n",
    "                    learning_rate_init = 0.0001, max_iter=200)\n",
    "print (clf)\n",
    "clf.fit(train_dataSet,train_labels)\n",
    "test_dataSet,test_labels = readDataSet('data_test.txt', True)\n",
    "res = clf.predict(test_dataSet)\n",
    "\n",
    "mf = open('model_1.txt','w')\n",
    "for i in range(len(res)):\n",
    "    mf.write(str(res[i]) + '\\n')\n",
    "mf.close()\n",
    "\n",
    "    "
   ]
  },
  {
   "cell_type": "code",
   "execution_count": 8,
   "metadata": {},
   "outputs": [
    {
     "name": "stdout",
     "output_type": "stream",
     "text": [
      "env: KERAS_BACKEND=tensorflow\n"
     ]
    }
   ],
   "source": [
    "%env KERAS_BACKEND=tensorflow"
   ]
  },
  {
   "cell_type": "code",
   "execution_count": 9,
   "metadata": {},
   "outputs": [],
   "source": [
    "%matplotlib inline\n",
    "\n",
    "import numpy as np\n",
    "import matplotlib.pyplot as plt"
   ]
  },
  {
   "cell_type": "code",
   "execution_count": 11,
   "metadata": {},
   "outputs": [
    {
     "name": "stderr",
     "output_type": "stream",
     "text": [
      "Using TensorFlow backend.\n",
      "D:\\Anaconda3\\lib\\importlib\\_bootstrap.py:219: RuntimeWarning: numpy.ufunc size changed, may indicate binary incompatibility. Expected 192 from C header, got 216 from PyObject\n",
      "  return f(*args, **kwds)\n"
     ]
    }
   ],
   "source": [
    "from keras.datasets import mnist"
   ]
  },
  {
   "cell_type": "code",
   "execution_count": 12,
   "metadata": {},
   "outputs": [
    {
     "name": "stdout",
     "output_type": "stream",
     "text": [
      "Downloading data from https://s3.amazonaws.com/img-datasets/mnist.npz\n",
      "11493376/11490434 [==============================] - 3s 0us/step\n"
     ]
    }
   ],
   "source": [
    "(x_train, y_train), (x_test, y_test) = mnist.load_data()"
   ]
  },
  {
   "cell_type": "code",
   "execution_count": 13,
   "metadata": {},
   "outputs": [
    {
     "data": {
      "text/plain": [
       "(60000, 28, 28)"
      ]
     },
     "execution_count": 13,
     "metadata": {},
     "output_type": "execute_result"
    }
   ],
   "source": [
    "x_train.shape"
   ]
  },
  {
   "cell_type": "code",
   "execution_count": 14,
   "metadata": {},
   "outputs": [
    {
     "data": {
      "text/plain": [
       "(60000,)"
      ]
     },
     "execution_count": 14,
     "metadata": {},
     "output_type": "execute_result"
    }
   ],
   "source": [
    "y_train.shape"
   ]
  },
  {
   "cell_type": "code",
   "execution_count": 15,
   "metadata": {},
   "outputs": [
    {
     "data": {
      "text/plain": [
       "(10000, 28, 28)"
      ]
     },
     "execution_count": 15,
     "metadata": {},
     "output_type": "execute_result"
    }
   ],
   "source": [
    "x_test.shape"
   ]
  },
  {
   "cell_type": "code",
   "execution_count": 16,
   "metadata": {},
   "outputs": [
    {
     "data": {
      "text/plain": [
       "(10000,)"
      ]
     },
     "execution_count": 16,
     "metadata": {},
     "output_type": "execute_result"
    }
   ],
   "source": [
    "y_test.shape"
   ]
  },
  {
   "cell_type": "code",
   "execution_count": 17,
   "metadata": {},
   "outputs": [],
   "source": [
    "x_train = x_train.reshape(60000, 28, 28, 1)\n",
    "x_test = x_test.reshape(10000, 28, 28, 1)"
   ]
  },
  {
   "cell_type": "code",
   "execution_count": 18,
   "metadata": {},
   "outputs": [
    {
     "data": {
      "text/plain": [
       "(28, 28, 1)"
      ]
     },
     "execution_count": 18,
     "metadata": {},
     "output_type": "execute_result"
    }
   ],
   "source": [
    "x_train[9487].shape"
   ]
  },
  {
   "cell_type": "code",
   "execution_count": 19,
   "metadata": {},
   "outputs": [],
   "source": [
    "X = x_train[9487][:,:,0]"
   ]
  },
  {
   "cell_type": "code",
   "execution_count": 20,
   "metadata": {},
   "outputs": [
    {
     "data": {
      "text/plain": [
       "<matplotlib.image.AxesImage at 0x1a49cab6860>"
      ]
     },
     "execution_count": 20,
     "metadata": {},
     "output_type": "execute_result"
    },
    {
     "data": {
      "image/png": "[encoded data removed]",
      "text/plain": [
       "<Figure size 432x288 with 1 Axes>"
      ]
     },
     "metadata": {
      "needs_background": "light"
     },
     "output_type": "display_data"
    }
   ],
   "source": [
    "plt.imshow(X, cmap='Greys')"
   ]
  },
  {
   "cell_type": "code",
   "execution_count": 21,
   "metadata": {},
   "outputs": [],
   "source": [
    "from keras.utils import np_utils"
   ]
  },
  {
   "cell_type": "code",
   "execution_count": 22,
   "metadata": {},
   "outputs": [],
   "source": [
    "y_train = np_utils.to_categorical(y_train, 10)\n",
    "y_test = np_utils.to_categorical(y_test, 10)"
   ]
  },
  {
   "cell_type": "code",
   "execution_count": 23,
   "metadata": {},
   "outputs": [
    {
     "name": "stdout",
     "output_type": "stream",
     "text": [
      "[[0. 0. 0. ... 0. 0. 0.]\n",
      " [1. 0. 0. ... 0. 0. 0.]\n",
      " [0. 0. 0. ... 0. 0. 0.]\n",
      " ...\n",
      " [0. 0. 0. ... 0. 0. 0.]\n",
      " [0. 0. 0. ... 0. 0. 0.]\n",
      " [0. 0. 0. ... 0. 1. 0.]]\n"
     ]
    }
   ],
   "source": [
    "print (y_train)"
   ]
  },
  {
   "cell_type": "code",
   "execution_count": 24,
   "metadata": {},
   "outputs": [
    {
     "name": "stdout",
     "output_type": "stream",
     "text": [
      "[[0. 0. 0. ... 1. 0. 0.]\n",
      " [0. 0. 1. ... 0. 0. 0.]\n",
      " [0. 1. 0. ... 0. 0. 0.]\n",
      " ...\n",
      " [0. 0. 0. ... 0. 0. 0.]\n",
      " [0. 0. 0. ... 0. 0. 0.]\n",
      " [0. 0. 0. ... 0. 0. 0.]]\n"
     ]
    }
   ],
   "source": [
    "print (y_test)"
   ]
  },
  {
   "cell_type": "code",
   "execution_count": 25,
   "metadata": {},
   "outputs": [
    {
     "data": {
      "text/plain": [
       "(60000, 10)"
      ]
     },
     "execution_count": 25,
     "metadata": {},
     "output_type": "execute_result"
    }
   ],
   "source": [
    "y_train.shape"
   ]
  },
  {
   "cell_type": "code",
   "execution_count": 27,
   "metadata": {},
   "outputs": [],
   "source": [
    "from keras.models import Sequential\n",
    "from keras.layers import Dense, Activation, Flatten\n",
    "from keras.layers import Conv2D, MaxPooling2D\n",
    "from keras.optimizers import SGD"
   ]
  },
  {
   "cell_type": "code",
   "execution_count": 28,
   "metadata": {},
   "outputs": [
    {
     "name": "stderr",
     "output_type": "stream",
     "text": [
      "WARNING: Logging before flag parsing goes to stderr.\n",
      "W0821 17:34:48.532138 13676 deprecation_wrapper.py:119] From D:\\Anaconda3\\lib\\site-packages\\keras\\backend\\tensorflow_backend.py:74: The name tf.get_default_graph is deprecated. Please use tf.compat.v1.get_default_graph instead.\n",
      "\n"
     ]
    }
   ],
   "source": [
    "model = Sequential()"
   ]
  },
  {
   "cell_type": "code",
   "execution_count": 29,
   "metadata": {},
   "outputs": [
    {
     "name": "stderr",
     "output_type": "stream",
     "text": [
      "W0821 17:35:15.090392 13676 deprecation_wrapper.py:119] From D:\\Anaconda3\\lib\\site-packages\\keras\\backend\\tensorflow_backend.py:517: The name tf.placeholder is deprecated. Please use tf.compat.v1.placeholder instead.\n",
      "\n",
      "W0821 17:35:15.861453 13676 deprecation_wrapper.py:119] From D:\\Anaconda3\\lib\\site-packages\\keras\\backend\\tensorflow_backend.py:4138: The name tf.random_uniform is deprecated. Please use tf.random.uniform instead.\n",
      "\n"
     ]
    }
   ],
   "source": [
    "model.add(Conv2D(32, (3,3), padding='same', input_shape=(28,28,1)))\n",
    "model.add(Activation('relu'))"
   ]
  },
  {
   "cell_type": "code",
   "execution_count": 30,
   "metadata": {},
   "outputs": [
    {
     "name": "stderr",
     "output_type": "stream",
     "text": [
      "W0821 17:35:41.694990 13676 deprecation_wrapper.py:119] From D:\\Anaconda3\\lib\\site-packages\\keras\\backend\\tensorflow_backend.py:3976: The name tf.nn.max_pool is deprecated. Please use tf.nn.max_pool2d instead.\n",
      "\n"
     ]
    }
   ],
   "source": [
    "model.add(MaxPooling2D(pool_size=(2,2)))"
   ]
  },
  {
   "cell_type": "code",
   "execution_count": 32,
   "metadata": {},
   "outputs": [],
   "source": [
    "model.add(Conv2D(64, (3,3), padding='same'))\n",
    "model.add(Activation('relu'))"
   ]
  },
  {
   "cell_type": "code",
   "execution_count": 33,
   "metadata": {},
   "outputs": [],
   "source": [
    "model.add(MaxPooling2D(pool_size=(2,2)))"
   ]
  },
  {
   "cell_type": "code",
   "execution_count": 34,
   "metadata": {},
   "outputs": [],
   "source": [
    "model.add(Conv2D(128, (3,3), padding='same'))\n",
    "model.add(Activation('relu'))"
   ]
  },
  {
   "cell_type": "code",
   "execution_count": 35,
   "metadata": {},
   "outputs": [],
   "source": [
    "model.add(MaxPooling2D(pool_size=(2,2)))"
   ]
  },
  {
   "cell_type": "code",
   "execution_count": 36,
   "metadata": {},
   "outputs": [],
   "source": [
    "model.add(Flatten())\n",
    "model.add(Dense(200))\n",
    "model.add(Activation('relu'))"
   ]
  },
  {
   "cell_type": "code",
   "execution_count": 37,
   "metadata": {},
   "outputs": [],
   "source": [
    "model.add(Dense(10))\n",
    "model.add(Activation('softmax'))"
   ]
  },
  {
   "cell_type": "code",
   "execution_count": 38,
   "metadata": {},
   "outputs": [
    {
     "name": "stderr",
     "output_type": "stream",
     "text": [
      "W0821 17:37:31.911522 13676 deprecation_wrapper.py:119] From D:\\Anaconda3\\lib\\site-packages\\keras\\optimizers.py:790: The name tf.train.Optimizer is deprecated. Please use tf.compat.v1.train.Optimizer instead.\n",
      "\n"
     ]
    }
   ],
   "source": [
    "model.compile(loss='mse', optimizer=SGD(lr=0.05), metrics=['accuracy'])"
   ]
  },
  {
   "cell_type": "code",
   "execution_count": 39,
   "metadata": {},
   "outputs": [
    {
     "name": "stdout",
     "output_type": "stream",
     "text": [
      "_________________________________________________________________\n",
      "Layer (type)                 Output Shape              Param #   \n",
      "=================================================================\n",
      "conv2d_1 (Conv2D)            (None, 28, 28, 32)        320       \n",
      "_________________________________________________________________\n",
      "activation_1 (Activation)    (None, 28, 28, 32)        0         \n",
      "_________________________________________________________________\n",
      "max_pooling2d_1 (MaxPooling2 (None, 14, 14, 32)        0         \n",
      "_________________________________________________________________\n",
      "conv2d_2 (Conv2D)            (None, 14, 14, 64)        18496     \n",
      "_________________________________________________________________\n",
      "activation_2 (Activation)    (None, 14, 14, 64)        0         \n",
      "_________________________________________________________________\n",
      "conv2d_3 (Conv2D)            (None, 14, 14, 64)        36928     \n",
      "_________________________________________________________________\n",
      "activation_3 (Activation)    (None, 14, 14, 64)        0         \n",
      "_________________________________________________________________\n",
      "max_pooling2d_2 (MaxPooling2 (None, 7, 7, 64)          0         \n",
      "_________________________________________________________________\n",
      "conv2d_4 (Conv2D)            (None, 7, 7, 128)         73856     \n",
      "_________________________________________________________________\n",
      "activation_4 (Activation)    (None, 7, 7, 128)         0         \n",
      "_________________________________________________________________\n",
      "max_pooling2d_3 (MaxPooling2 (None, 3, 3, 128)         0         \n",
      "_________________________________________________________________\n",
      "flatten_1 (Flatten)          (None, 1152)              0         \n",
      "_________________________________________________________________\n",
      "dense_1 (Dense)              (None, 200)               230600    \n",
      "_________________________________________________________________\n",
      "activation_5 (Activation)    (None, 200)               0         \n",
      "_________________________________________________________________\n",
      "dense_2 (Dense)              (None, 10)                2010      \n",
      "_________________________________________________________________\n",
      "activation_6 (Activation)    (None, 10)                0         \n",
      "=================================================================\n",
      "Total params: 362,210\n",
      "Trainable params: 362,210\n",
      "Non-trainable params: 0\n",
      "_________________________________________________________________\n"
     ]
    }
   ],
   "source": [
    "model.summary()"
   ]
  },
  {
   "cell_type": "code",
   "execution_count": 41,
   "metadata": {},
   "outputs": [
    {
     "name": "stdout",
     "output_type": "stream",
     "text": [
      "Epoch 1/1\n",
      "60000/60000 [==============================] - 163s 3ms/step - loss: 0.0045 - acc: 0.9703\n"
     ]
    },
    {
     "data": {
      "text/plain": [
       "<keras.callbacks.History at 0x1a49cec3f98>"
      ]
     },
     "execution_count": 41,
     "metadata": {},
     "output_type": "execute_result"
    }
   ],
   "source": [
    "model.fit(x_train, y_train, batch_size=100, epochs=1)"
   ]
  },
  {
   "cell_type": "code",
   "execution_count": 42,
   "metadata": {},
   "outputs": [
    {
     "name": "stdout",
     "output_type": "stream",
     "text": [
      "10000/10000 [==============================] - 7s 699us/step\n"
     ]
    }
   ],
   "source": [
    "score = model.evaluate(x_test, y_test)"
   ]
  },
  {
   "cell_type": "code",
   "execution_count": 43,
   "metadata": {},
   "outputs": [
    {
     "name": "stdout",
     "output_type": "stream",
     "text": [
      "loss:  0.004840017901700867\n",
      "acc:  0.9676\n"
     ]
    }
   ],
   "source": [
    "print('loss: ', score[0])\n",
    "print('acc: ', score[1])"
   ]
  },
  {
   "cell_type": "code",
   "execution_count": 44,
   "metadata": {},
   "outputs": [],
   "source": [
    "model_json = model.to_json()\n",
    "open('handwriting_model_cnn.json', 'w').write(model_json)\n",
    "model.save_weights('handwriting_weights_cnn.h5')"
   ]
  },
  {
   "cell_type": "code",
   "execution_count": 45,
   "metadata": {},
   "outputs": [],
   "source": [
    "predict = model.predict_classes(x_test)"
   ]
  },
  {
   "cell_type": "code",
   "execution_count": 47,
   "metadata": {},
   "outputs": [
    {
     "data": {
      "image/png": "[encoded data removed]",
      "text/plain": [
       "<Figure size 432x288 with 5 Axes>"
      ]
     },
     "metadata": {
      "needs_background": "light"
     },
     "output_type": "display_data"
    }
   ],
   "source": [
    "pick = np.random.randint(1,9999, 5)\n",
    "\n",
    "for i in range(5):\n",
    "    plt.subplot(1,5,i+1)\n",
    "    plt.imshow(x_test[pick[i]].reshape(28,28), cmap='Greys')\n",
    "    plt.title(predict[pick[i]])\n",
    "    plt.axis(\"off\")"
   ]
  },
  {
   "cell_type": "code",
   "execution_count": 48,
   "metadata": {},
   "outputs": [],
   "source": [
    "from keras.datasets import imdb"
   ]
  },
  {
   "cell_type": "code",
   "execution_count": 49,
   "metadata": {},
   "outputs": [
    {
     "name": "stdout",
     "output_type": "stream",
     "text": [
      "Downloading data from https://s3.amazonaws.com/text-datasets/imdb.npz\n",
      "17465344/17464789 [==============================] - 4s 0us/step\n"
     ]
    }
   ],
   "source": [
    "(x_train, y_train), (x_test, y_test) = imdb.load_data(num_words=10000)"
   ]
  },
  {
   "cell_type": "code",
   "execution_count": 50,
   "metadata": {},
   "outputs": [
    {
     "data": {
      "text/plain": [
       "25000"
      ]
     },
     "execution_count": 50,
     "metadata": {},
     "output_type": "execute_result"
    }
   ],
   "source": [
    "len(x_train)"
   ]
  },
  {
   "cell_type": "code",
   "execution_count": 51,
   "metadata": {},
   "outputs": [
    {
     "data": {
      "text/plain": [
       "25000"
      ]
     },
     "execution_count": 51,
     "metadata": {},
     "output_type": "execute_result"
    }
   ],
   "source": [
    "len (y_train)"
   ]
  },
  {
   "cell_type": "code",
   "execution_count": 52,
   "metadata": {},
   "outputs": [
    {
     "data": {
      "text/plain": [
       "25000"
      ]
     },
     "execution_count": 52,
     "metadata": {},
     "output_type": "execute_result"
    }
   ],
   "source": [
    "len (x_test)"
   ]
  },
  {
   "cell_type": "code",
   "execution_count": 53,
   "metadata": {},
   "outputs": [
    {
     "data": {
      "text/plain": [
       "25000"
      ]
     },
     "execution_count": 53,
     "metadata": {},
     "output_type": "execute_result"
    }
   ],
   "source": [
    "len (y_test)"
   ]
  },
  {
   "cell_type": "code",
   "execution_count": 54,
   "metadata": {},
   "outputs": [
    {
     "name": "stdout",
     "output_type": "stream",
     "text": [
      "218, 189, 141, 550, 147, 43, 123, 562, 233, 130, "
     ]
    }
   ],
   "source": [
    "for i in range(10):\n",
    "    print(len(x_train[i]), end=', ')"
   ]
  },
  {
   "cell_type": "code",
   "execution_count": 56,
   "metadata": {},
   "outputs": [
    {
     "name": "stdout",
     "output_type": "stream",
     "text": [
      "[1, 14, 22, 16, 43, 530, 973, 1622, 1385, 65, 458, 4468, 66, 3941, 4, 173, 36, 256, 5, 25, 100, 43, 838, 112, 50, 670, 2, 9, 35, 480, 284, 5, 150, 4, 172, 112, 167, 2, 336, 385, 39, 4, 172, 4536, 1111, 17, 546, 38, 13, 447, 4, 192, 50, 16, 6, 147, 2025, 19, 14, 22, 4, 1920, 4613, 469, 4, 22, 71, 87, 12, 16, 43, 530, 38, 76, 15, 13, 1247, 4, 22, 17, 515, 17, 12, 16, 626, 18, 2, 5, 62, 386, 12, 8, 316, 8, 106, 5, 4, 2223, 5244, 16, 480, 66, 3785, 33, 4, 130, 12, 16, 38, 619, 5, 25, 124, 51, 36, 135, 48, 25, 1415, 33, 6, 22, 12, 215, 28, 77, 52, 5, 14, 407, 16, 82, 2, 8, 4, 107, 117, 5952, 15, 256, 4, 2, 7, 3766, 5, 723, 36, 71, 43, 530, 476, 26, 400, 317, 46, 7, 4, 2, 1029, 13, 104, 88, 4, 381, 15, 297, 98, 32, 2071, 56, 26, 141, 6, 194, 7486, 18, 4, 226, 22, 21, 134, 476, 26, 480, 5, 144, 30, 5535, 18, 51, 36, 28, 224, 92, 25, 104, 4, 226, 65, 16, 38, 1334, 88, 12, 16, 283, 5, 16, 4472, 113, 103, 32, 15, 16, 5345, 19, 178, 32], [1, 194, 1153, 194, 8255, 78, 228, 5, 6, 1463, 4369, 5012, 134, 26, 4, 715, 8, 118, 1634, 14, 394, 20, 13, 119, 954, 189, 102, 5, 207, 110, 3103, 21, 14, 69, 188, 8, 30, 23, 7, 4, 249, 126, 93, 4, 114, 9, 2300, 1523, 5, 647, 4, 116, 9, 35, 8163, 4, 229, 9, 340, 1322, 4, 118, 9, 4, 130, 4901, 19, 4, 1002, 5, 89, 29, 952, 46, 37, 4, 455, 9, 45, 43, 38, 1543, 1905, 398, 4, 1649, 26, 6853, 5, 163, 11, 3215, 2, 4, 1153, 9, 194, 775, 7, 8255, 2, 349, 2637, 148, 605, 2, 8003, 15, 123, 125, 68, 2, 6853, 15, 349, 165, 4362, 98, 5, 4, 228, 9, 43, 2, 1157, 15, 299, 120, 5, 120, 174, 11, 220, 175, 136, 50, 9, 4373, 228, 8255, 5, 2, 656, 245, 2350, 5, 4, 9837, 131, 152, 491, 18, 2, 32, 7464, 1212, 14, 9, 6, 371, 78, 22, 625, 64, 1382, 9, 8, 168, 145, 23, 4, 1690, 15, 16, 4, 1355, 5, 28, 6, 52, 154, 462, 33, 89, 78, 285, 16, 145, 95], [1, 14, 47, 8, 30, 31, 7, 4, 249, 108, 7, 4, 5974, 54, 61, 369, 13, 71, 149, 14, 22, 112, 4, 2401, 311, 12, 16, 3711, 33, 75, 43, 1829, 296, 4, 86, 320, 35, 534, 19, 263, 4821, 1301, 4, 1873, 33, 89, 78, 12, 66, 16, 4, 360, 7, 4, 58, 316, 334, 11, 4, 1716, 43, 645, 662, 8, 257, 85, 1200, 42, 1228, 2578, 83, 68, 3912, 15, 36, 165, 1539, 278, 36, 69, 2, 780, 8, 106, 14, 6905, 1338, 18, 6, 22, 12, 215, 28, 610, 40, 6, 87, 326, 23, 2300, 21, 23, 22, 12, 272, 40, 57, 31, 11, 4, 22, 47, 6, 2307, 51, 9, 170, 23, 595, 116, 595, 1352, 13, 191, 79, 638, 89, 2, 14, 9, 8, 106, 607, 624, 35, 534, 6, 227, 7, 129, 113], "
     ]
    }
   ],
   "source": [
    "for i in range(3):\n",
    "    print(x_train[i], end=', ')"
   ]
  },
  {
   "cell_type": "code",
   "execution_count": null,
   "metadata": {},
   "outputs": [],
   "source": []
  },
  {
   "cell_type": "code",
   "execution_count": 57,
   "metadata": {},
   "outputs": [
    {
     "data": {
      "text/plain": [
       "array([1, 0, 0, 1, 0, 0, 1, 0, 1, 0], dtype=int64)"
      ]
     },
     "execution_count": 57,
     "metadata": {},
     "output_type": "execute_result"
    }
   ],
   "source": [
    "y_train[:10]"
   ]
  },
  {
   "cell_type": "code",
   "execution_count": 58,
   "metadata": {},
   "outputs": [
    {
     "data": {
      "text/plain": [
       "array([1, 0, 0, ..., 0, 1, 0], dtype=int64)"
      ]
     },
     "execution_count": 58,
     "metadata": {},
     "output_type": "execute_result"
    }
   ],
   "source": [
    "y_train[:]"
   ]
  },
  {
   "cell_type": "code",
   "execution_count": 59,
   "metadata": {},
   "outputs": [],
   "source": [
    "from keras.preprocessing import sequence"
   ]
  },
  {
   "cell_type": "code",
   "execution_count": 60,
   "metadata": {},
   "outputs": [],
   "source": [
    "x_train = sequence.pad_sequences(x_train, maxlen=100)\n",
    "x_test = sequence.pad_sequences(x_test, maxlen=100)"
   ]
  },
  {
   "cell_type": "code",
   "execution_count": 61,
   "metadata": {},
   "outputs": [
    {
     "data": {
      "text/plain": [
       "(25000, 100)"
      ]
     },
     "execution_count": 61,
     "metadata": {},
     "output_type": "execute_result"
    }
   ],
   "source": [
    "x_train.shape"
   ]
  },
  {
   "cell_type": "code",
   "execution_count": 63,
   "metadata": {},
   "outputs": [
    {
     "name": "stdout",
     "output_type": "stream",
     "text": [
      "[1415   33    6   22   12  215   28   77   52    5   14  407   16   82\n",
      "    2    8    4  107  117 5952   15  256    4    2    7 3766    5  723\n",
      "   36   71   43  530  476   26  400  317   46    7    4    2 1029   13\n",
      "  104   88    4  381   15  297   98   32 2071   56   26  141    6  194\n",
      " 7486   18    4  226   22   21  134  476   26  480    5  144   30 5535\n",
      "   18   51   36   28  224   92   25  104    4  226   65   16   38 1334\n",
      "   88   12   16  283    5   16 4472  113  103   32   15   16 5345   19\n",
      "  178   32], [ 163   11 3215    2    4 1153    9  194  775    7 8255    2  349 2637\n",
      "  148  605    2 8003   15  123  125   68    2 6853   15  349  165 4362\n",
      "   98    5    4  228    9   43    2 1157   15  299  120    5  120  174\n",
      "   11  220  175  136   50    9 4373  228 8255    5    2  656  245 2350\n",
      "    5    4 9837  131  152  491   18    2   32 7464 1212   14    9    6\n",
      "  371   78   22  625   64 1382    9    8  168  145   23    4 1690   15\n",
      "   16    4 1355    5   28    6   52  154  462   33   89   78  285   16\n",
      "  145   95], [1301    4 1873   33   89   78   12   66   16    4  360    7    4   58\n",
      "  316  334   11    4 1716   43  645  662    8  257   85 1200   42 1228\n",
      " 2578   83   68 3912   15   36  165 1539  278   36   69    2  780    8\n",
      "  106   14 6905 1338   18    6   22   12  215   28  610   40    6   87\n",
      "  326   23 2300   21   23   22   12  272   40   57   31   11    4   22\n",
      "   47    6 2307   51    9  170   23  595  116  595 1352   13  191   79\n",
      "  638   89    2   14    9    8  106  607  624   35  534    6  227    7\n",
      "  129  113], "
     ]
    }
   ],
   "source": [
    "for i in range(3):\n",
    "    print(x_train[i], end=', ')"
   ]
  },
  {
   "cell_type": "code",
   "execution_count": 64,
   "metadata": {},
   "outputs": [],
   "source": [
    "from keras.models import Sequential\n",
    "from keras.layers import Dense, Embedding\n",
    "from keras.layers import LSTM"
   ]
  },
  {
   "cell_type": "code",
   "execution_count": 65,
   "metadata": {},
   "outputs": [],
   "source": [
    "model = Sequential()"
   ]
  },
  {
   "cell_type": "code",
   "execution_count": 66,
   "metadata": {},
   "outputs": [],
   "source": [
    "model.add(Embedding(10000, 128))"
   ]
  },
  {
   "cell_type": "code",
   "execution_count": 67,
   "metadata": {},
   "outputs": [],
   "source": [
    "model.add(LSTM(150))"
   ]
  },
  {
   "cell_type": "code",
   "execution_count": 68,
   "metadata": {},
   "outputs": [],
   "source": [
    "model.add(Dense(1, activation='sigmoid'))"
   ]
  },
  {
   "cell_type": "code",
   "execution_count": 69,
   "metadata": {},
   "outputs": [
    {
     "name": "stdout",
     "output_type": "stream",
     "text": [
      "_________________________________________________________________\n",
      "Layer (type)                 Output Shape              Param #   \n",
      "=================================================================\n",
      "embedding_1 (Embedding)      (None, None, 128)         1280000   \n",
      "_________________________________________________________________\n",
      "lstm_1 (LSTM)                (None, 150)               167400    \n",
      "_________________________________________________________________\n",
      "dense_3 (Dense)              (None, 1)                 151       \n",
      "=================================================================\n",
      "Total params: 1,447,551\n",
      "Trainable params: 1,447,551\n",
      "Non-trainable params: 0\n",
      "_________________________________________________________________\n"
     ]
    }
   ],
   "source": [
    "model.summary()"
   ]
  }
 ],
 "metadata": {
  "kernelspec": {
   "display_name": "Python 3",
   "language": "python",
   "name": "python3"
  },
  "language_info": {
   "codemirror_mode": {
    "name": "ipython",
    "version": 3
   },
   "file_extension": ".py",
   "mimetype": "text/x-python",
   "name": "python",
   "nbconvert_exporter": "python",
   "pygments_lexer": "ipython3",
   "version": "3.7.3"
  }
 },
 "nbformat": 4,
 "nbformat_minor": 2
}
